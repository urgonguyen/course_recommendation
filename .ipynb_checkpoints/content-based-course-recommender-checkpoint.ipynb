{
 "cells": [
  {
   "cell_type": "code",
   "execution_count": 1,
   "id": "9ced022a",
   "metadata": {
    "_cell_guid": "b1076dfc-b9ad-4769-8c92-a6c4dae69d19",
    "_uuid": "8f2839f25d086af736a60e9eeb907d3b93b6e0e5",
    "execution": {
     "iopub.execute_input": "2022-05-30T16:02:57.889065Z",
     "iopub.status.busy": "2022-05-30T16:02:57.888470Z",
     "iopub.status.idle": "2022-05-30T16:02:57.914569Z",
     "shell.execute_reply": "2022-05-30T16:02:57.913512Z"
    },
    "papermill": {
     "duration": 0.040597,
     "end_time": "2022-05-30T16:02:57.918029",
     "exception": false,
     "start_time": "2022-05-30T16:02:57.877432",
     "status": "completed"
    },
    "tags": []
   },
   "outputs": [],
   "source": [
    "# This Python 3 environment comes with many helpful analytics libraries installed\n",
    "# It is defined by the kaggle/python Docker image: https://github.com/kaggle/docker-python\n",
    "# For example, here's several helpful packages to load\n",
    "\n",
    "import numpy as np # linear algebra\n",
    "import pandas as pd # data processing, CSV file I/O (e.g. pd.read_csv)\n",
    "\n",
    "# Input data files are available in the read-only \"../input/\" directory\n",
    "# For example, running this (by clicking run or pressing Shift+Enter) will list all files under the input directory\n",
    "\n",
    "import os\n",
    "for dirname, _, filenames in os.walk('/kaggle/input'):\n",
    "    for filename in filenames:\n",
    "        print(os.path.join(dirname, filename))\n",
    "\n",
    "# You can write up to 20GB to the current directory (/kaggle/working/) that gets preserved as output when you create a version using \"Save & Run All\" \n",
    "# You can also write temporary files to /kaggle/temp/, but they won't be saved outside of the current session"
   ]
  },
  {
   "cell_type": "code",
   "execution_count": 5,
   "id": "28eb1e91",
   "metadata": {
    "execution": {
     "iopub.execute_input": "2022-05-30T16:02:57.934196Z",
     "iopub.status.busy": "2022-05-30T16:02:57.933465Z",
     "iopub.status.idle": "2022-05-30T16:02:58.158345Z",
     "shell.execute_reply": "2022-05-30T16:02:58.157260Z"
    },
    "papermill": {
     "duration": 0.235272,
     "end_time": "2022-05-30T16:02:58.160459",
     "exception": false,
     "start_time": "2022-05-30T16:02:57.925187",
     "status": "completed"
    },
    "tags": []
   },
   "outputs": [
    {
     "data": {
      "text/html": [
       "<div>\n",
       "<style scoped>\n",
       "    .dataframe tbody tr th:only-of-type {\n",
       "        vertical-align: middle;\n",
       "    }\n",
       "\n",
       "    .dataframe tbody tr th {\n",
       "        vertical-align: top;\n",
       "    }\n",
       "\n",
       "    .dataframe thead th {\n",
       "        text-align: right;\n",
       "    }\n",
       "</style>\n",
       "<table border=\"1\" class=\"dataframe\">\n",
       "  <thead>\n",
       "    <tr style=\"text-align: right;\">\n",
       "      <th></th>\n",
       "      <th>Title</th>\n",
       "      <th>Offered by</th>\n",
       "      <th>Level</th>\n",
       "      <th>Rating</th>\n",
       "      <th>URL</th>\n",
       "      <th>Description</th>\n",
       "      <th>Skills</th>\n",
       "    </tr>\n",
       "  </thead>\n",
       "  <tbody>\n",
       "    <tr>\n",
       "      <th>0</th>\n",
       "      <td>Microsoft Azure Data Scientist Associate (DP-1...</td>\n",
       "      <td>Microsoft</td>\n",
       "      <td>Intermediate</td>\n",
       "      <td>4.5</td>\n",
       "      <td>https://in.coursera.org/professional-certifica...</td>\n",
       "      <td>This Professional Certificate is intended for ...</td>\n",
       "      <td>Manage Azure resources for machine learning De...</td>\n",
       "    </tr>\n",
       "    <tr>\n",
       "      <th>1</th>\n",
       "      <td>Machine Learning Specialization</td>\n",
       "      <td>Stanford University</td>\n",
       "      <td>Beginner</td>\n",
       "      <td>4.9</td>\n",
       "      <td>https://in.coursera.org/specializations/machin...</td>\n",
       "      <td>The Machine Learning Specialization is a found...</td>\n",
       "      <td>Decision Trees Artificial Neural Network Logis...</td>\n",
       "    </tr>\n",
       "    <tr>\n",
       "      <th>2</th>\n",
       "      <td>Machine Learning Engineering for Production (M...</td>\n",
       "      <td>DeepLearning.AI</td>\n",
       "      <td>Advanced</td>\n",
       "      <td>4.7</td>\n",
       "      <td>https://in.coursera.org/browse/data-science/ma...</td>\n",
       "      <td>Understanding machine learning and deep learni...</td>\n",
       "      <td>Managing Machine Learning Production Systems D...</td>\n",
       "    </tr>\n",
       "    <tr>\n",
       "      <th>3</th>\n",
       "      <td>Fundamentals of Machine Learning for Healthcare</td>\n",
       "      <td>Stanford University</td>\n",
       "      <td>Beginner</td>\n",
       "      <td>4.8</td>\n",
       "      <td>https://in.coursera.org/learn/fundamental-mach...</td>\n",
       "      <td>Machine learning and artificial intelligence h...</td>\n",
       "      <td>Machine learning Biostatistics Traditional com...</td>\n",
       "    </tr>\n",
       "    <tr>\n",
       "      <th>4</th>\n",
       "      <td>IBM Machine Learning Professional Certificate</td>\n",
       "      <td>IBM</td>\n",
       "      <td>Intermediate</td>\n",
       "      <td>4.6</td>\n",
       "      <td>https://in.coursera.org/professional-certifica...</td>\n",
       "      <td>Machine Learning is one of the most in-demand ...</td>\n",
       "      <td>Artificial Intelligence (AI) Machine Learning ...</td>\n",
       "    </tr>\n",
       "  </tbody>\n",
       "</table>\n",
       "</div>"
      ],
      "text/plain": [
       "                                               Title           Offered by  \\\n",
       "0  Microsoft Azure Data Scientist Associate (DP-1...            Microsoft   \n",
       "1                    Machine Learning Specialization  Stanford University   \n",
       "2  Machine Learning Engineering for Production (M...      DeepLearning.AI   \n",
       "3    Fundamentals of Machine Learning for Healthcare  Stanford University   \n",
       "4      IBM Machine Learning Professional Certificate                  IBM   \n",
       "\n",
       "          Level Rating                                                URL  \\\n",
       "0  Intermediate    4.5  https://in.coursera.org/professional-certifica...   \n",
       "1      Beginner    4.9  https://in.coursera.org/specializations/machin...   \n",
       "2      Advanced    4.7  https://in.coursera.org/browse/data-science/ma...   \n",
       "3      Beginner    4.8  https://in.coursera.org/learn/fundamental-mach...   \n",
       "4  Intermediate    4.6  https://in.coursera.org/professional-certifica...   \n",
       "\n",
       "                                         Description  \\\n",
       "0  This Professional Certificate is intended for ...   \n",
       "1  The Machine Learning Specialization is a found...   \n",
       "2  Understanding machine learning and deep learni...   \n",
       "3  Machine learning and artificial intelligence h...   \n",
       "4  Machine Learning is one of the most in-demand ...   \n",
       "\n",
       "                                              Skills  \n",
       "0  Manage Azure resources for machine learning De...  \n",
       "1  Decision Trees Artificial Neural Network Logis...  \n",
       "2  Managing Machine Learning Production Systems D...  \n",
       "3  Machine learning Biostatistics Traditional com...  \n",
       "4  Artificial Intelligence (AI) Machine Learning ...  "
      ]
     },
     "execution_count": 5,
     "metadata": {},
     "output_type": "execute_result"
    }
   ],
   "source": [
    "df=pd.read_csv('course_data.csv',encoding = 'utf-8', encoding_errors='ignore')\n",
    "df.head()"
   ]
  },
  {
   "cell_type": "code",
   "execution_count": 4,
   "id": "7050dc8c",
   "metadata": {
    "execution": {
     "iopub.execute_input": "2022-05-30T16:02:58.171959Z",
     "iopub.status.busy": "2022-05-30T16:02:58.171548Z",
     "iopub.status.idle": "2022-05-30T16:02:58.191164Z",
     "shell.execute_reply": "2022-05-30T16:02:58.190099Z"
    },
    "papermill": {
     "duration": 0.028172,
     "end_time": "2022-05-30T16:02:58.193481",
     "exception": false,
     "start_time": "2022-05-30T16:02:58.165309",
     "status": "completed"
    },
    "tags": []
   },
   "outputs": [
    {
     "data": {
      "text/html": [
       "<div>\n",
       "<style scoped>\n",
       "    .dataframe tbody tr th:only-of-type {\n",
       "        vertical-align: middle;\n",
       "    }\n",
       "\n",
       "    .dataframe tbody tr th {\n",
       "        vertical-align: top;\n",
       "    }\n",
       "\n",
       "    .dataframe thead th {\n",
       "        text-align: right;\n",
       "    }\n",
       "</style>\n",
       "<table border=\"1\" class=\"dataframe\">\n",
       "  <thead>\n",
       "    <tr style=\"text-align: right;\">\n",
       "      <th></th>\n",
       "      <th>Title</th>\n",
       "      <th>Offered by</th>\n",
       "      <th>Level</th>\n",
       "      <th>Rating</th>\n",
       "      <th>Description</th>\n",
       "      <th>Skills</th>\n",
       "    </tr>\n",
       "  </thead>\n",
       "  <tbody>\n",
       "    <tr>\n",
       "      <th>0</th>\n",
       "      <td>Microsoft Azure Data Scientist Associate (DP-1...</td>\n",
       "      <td>Microsoft</td>\n",
       "      <td>Intermediate</td>\n",
       "      <td>4.5</td>\n",
       "      <td>This Professional Certificate is intended for ...</td>\n",
       "      <td>Manage Azure resources for machine learning De...</td>\n",
       "    </tr>\n",
       "    <tr>\n",
       "      <th>1</th>\n",
       "      <td>Machine Learning Specialization</td>\n",
       "      <td>Stanford University</td>\n",
       "      <td>Beginner</td>\n",
       "      <td>4.9</td>\n",
       "      <td>The Machine Learning Specialization is a found...</td>\n",
       "      <td>Decision Trees Artificial Neural Network Logis...</td>\n",
       "    </tr>\n",
       "    <tr>\n",
       "      <th>2</th>\n",
       "      <td>Machine Learning Engineering for Production (M...</td>\n",
       "      <td>DeepLearning.AI</td>\n",
       "      <td>Advanced</td>\n",
       "      <td>4.7</td>\n",
       "      <td>Understanding machine learning and deep learni...</td>\n",
       "      <td>Managing Machine Learning Production Systems D...</td>\n",
       "    </tr>\n",
       "    <tr>\n",
       "      <th>3</th>\n",
       "      <td>Fundamentals of Machine Learning for Healthcare</td>\n",
       "      <td>Stanford University</td>\n",
       "      <td>Beginner</td>\n",
       "      <td>4.8</td>\n",
       "      <td>Machine learning and artificial intelligence h...</td>\n",
       "      <td>Machine learning Biostatistics Traditional com...</td>\n",
       "    </tr>\n",
       "    <tr>\n",
       "      <th>4</th>\n",
       "      <td>IBM Machine Learning Professional Certificate</td>\n",
       "      <td>IBM</td>\n",
       "      <td>Intermediate</td>\n",
       "      <td>4.6</td>\n",
       "      <td>Machine Learning is one of the most in-demand ...</td>\n",
       "      <td>Artificial Intelligence (AI) Machine Learning ...</td>\n",
       "    </tr>\n",
       "  </tbody>\n",
       "</table>\n",
       "</div>"
      ],
      "text/plain": [
       "                                               Title           Offered by  \\\n",
       "0  Microsoft Azure Data Scientist Associate (DP-1...            Microsoft   \n",
       "1                    Machine Learning Specialization  Stanford University   \n",
       "2  Machine Learning Engineering for Production (M...      DeepLearning.AI   \n",
       "3    Fundamentals of Machine Learning for Healthcare  Stanford University   \n",
       "4      IBM Machine Learning Professional Certificate                  IBM   \n",
       "\n",
       "          Level Rating                                        Description  \\\n",
       "0  Intermediate    4.5  This Professional Certificate is intended for ...   \n",
       "1      Beginner    4.9  The Machine Learning Specialization is a found...   \n",
       "2      Advanced    4.7  Understanding machine learning and deep learni...   \n",
       "3      Beginner    4.8  Machine learning and artificial intelligence h...   \n",
       "4  Intermediate    4.6  Machine Learning is one of the most in-demand ...   \n",
       "\n",
       "                                              Skills  \n",
       "0  Manage Azure resources for machine learning De...  \n",
       "1  Decision Trees Artificial Neural Network Logis...  \n",
       "2  Managing Machine Learning Production Systems D...  \n",
       "3  Machine learning Biostatistics Traditional com...  \n",
       "4  Artificial Intelligence (AI) Machine Learning ...  "
      ]
     },
     "execution_count": 4,
     "metadata": {},
     "output_type": "execute_result"
    }
   ],
   "source": [
    "df.drop('URL',inplace=True,axis=1)\n",
    "df.head()"
   ]
  },
  {
   "cell_type": "code",
   "execution_count": 6,
   "id": "02c4c035",
   "metadata": {
    "execution": {
     "iopub.execute_input": "2022-05-30T16:02:58.205586Z",
     "iopub.status.busy": "2022-05-30T16:02:58.204885Z",
     "iopub.status.idle": "2022-05-30T16:02:59.280123Z",
     "shell.execute_reply": "2022-05-30T16:02:59.279431Z"
    },
    "papermill": {
     "duration": 1.083834,
     "end_time": "2022-05-30T16:02:59.282342",
     "exception": false,
     "start_time": "2022-05-30T16:02:58.198508",
     "status": "completed"
    },
    "tags": []
   },
   "outputs": [],
   "source": [
    "import matplotlib.pyplot as plt\n",
    "import seaborn as sns"
   ]
  },
  {
   "cell_type": "code",
   "execution_count": 7,
   "id": "4e10417c",
   "metadata": {
    "execution": {
     "iopub.execute_input": "2022-05-30T16:02:59.293876Z",
     "iopub.status.busy": "2022-05-30T16:02:59.293492Z",
     "iopub.status.idle": "2022-05-30T16:02:59.302580Z",
     "shell.execute_reply": "2022-05-30T16:02:59.301729Z"
    },
    "papermill": {
     "duration": 0.01709,
     "end_time": "2022-05-30T16:02:59.304377",
     "exception": false,
     "start_time": "2022-05-30T16:02:59.287287",
     "status": "completed"
    },
    "tags": []
   },
   "outputs": [
    {
     "data": {
      "text/plain": [
       "array(['4.5', '4.9', '4.7', '4.8', '4.6', 'Not available', '4.4', '4.2',\n",
       "       '4.3'], dtype=object)"
      ]
     },
     "execution_count": 7,
     "metadata": {},
     "output_type": "execute_result"
    }
   ],
   "source": [
    "df['Rating'].unique()"
   ]
  },
  {
   "cell_type": "code",
   "execution_count": 8,
   "id": "5e950959",
   "metadata": {
    "execution": {
     "iopub.execute_input": "2022-05-30T16:02:59.316127Z",
     "iopub.status.busy": "2022-05-30T16:02:59.315515Z",
     "iopub.status.idle": "2022-05-30T16:02:59.335152Z",
     "shell.execute_reply": "2022-05-30T16:02:59.334099Z"
    },
    "papermill": {
     "duration": 0.027455,
     "end_time": "2022-05-30T16:02:59.336945",
     "exception": false,
     "start_time": "2022-05-30T16:02:59.309490",
     "status": "completed"
    },
    "tags": []
   },
   "outputs": [
    {
     "ename": "ValueError",
     "evalue": "could not convert string to float: 'Not available'",
     "output_type": "error",
     "traceback": [
      "\u001b[1;31m---------------------------------------------------------------------------\u001b[0m",
      "\u001b[1;31mValueError\u001b[0m                                Traceback (most recent call last)",
      "\u001b[1;32m~\\AppData\\Local\\Temp/ipykernel_11296/2554586804.py\u001b[0m in \u001b[0;36m<module>\u001b[1;34m\u001b[0m\n\u001b[0;32m      1\u001b[0m \u001b[0mdf\u001b[0m \u001b[1;33m=\u001b[0m \u001b[0mdf\u001b[0m\u001b[1;33m[\u001b[0m\u001b[0mdf\u001b[0m\u001b[1;33m[\u001b[0m\u001b[1;34m'Rating'\u001b[0m\u001b[1;33m]\u001b[0m \u001b[1;33m!=\u001b[0m \u001b[1;34m'Not Available'\u001b[0m\u001b[1;33m]\u001b[0m\u001b[1;33m\u001b[0m\u001b[1;33m\u001b[0m\u001b[0m\n\u001b[1;32m----> 2\u001b[1;33m \u001b[0mdf\u001b[0m\u001b[1;33m[\u001b[0m\u001b[1;34m'Rating'\u001b[0m\u001b[1;33m]\u001b[0m \u001b[1;33m=\u001b[0m \u001b[0mdf\u001b[0m\u001b[1;33m[\u001b[0m\u001b[1;34m'Rating'\u001b[0m\u001b[1;33m]\u001b[0m\u001b[1;33m.\u001b[0m\u001b[0mastype\u001b[0m\u001b[1;33m(\u001b[0m\u001b[0mfloat\u001b[0m\u001b[1;33m)\u001b[0m\u001b[1;33m\u001b[0m\u001b[1;33m\u001b[0m\u001b[0m\n\u001b[0m\u001b[0;32m      3\u001b[0m \u001b[0mdf\u001b[0m\u001b[1;33m\u001b[0m\u001b[1;33m\u001b[0m\u001b[0m\n",
      "\u001b[1;32mC:\\ProgramData\\Anaconda3\\lib\\site-packages\\pandas\\core\\generic.py\u001b[0m in \u001b[0;36mastype\u001b[1;34m(self, dtype, copy, errors)\u001b[0m\n\u001b[0;32m   5813\u001b[0m         \u001b[1;32melse\u001b[0m\u001b[1;33m:\u001b[0m\u001b[1;33m\u001b[0m\u001b[1;33m\u001b[0m\u001b[0m\n\u001b[0;32m   5814\u001b[0m             \u001b[1;31m# else, only a single dtype is given\u001b[0m\u001b[1;33m\u001b[0m\u001b[1;33m\u001b[0m\u001b[0m\n\u001b[1;32m-> 5815\u001b[1;33m             \u001b[0mnew_data\u001b[0m \u001b[1;33m=\u001b[0m \u001b[0mself\u001b[0m\u001b[1;33m.\u001b[0m\u001b[0m_mgr\u001b[0m\u001b[1;33m.\u001b[0m\u001b[0mastype\u001b[0m\u001b[1;33m(\u001b[0m\u001b[0mdtype\u001b[0m\u001b[1;33m=\u001b[0m\u001b[0mdtype\u001b[0m\u001b[1;33m,\u001b[0m \u001b[0mcopy\u001b[0m\u001b[1;33m=\u001b[0m\u001b[0mcopy\u001b[0m\u001b[1;33m,\u001b[0m \u001b[0merrors\u001b[0m\u001b[1;33m=\u001b[0m\u001b[0merrors\u001b[0m\u001b[1;33m)\u001b[0m\u001b[1;33m\u001b[0m\u001b[1;33m\u001b[0m\u001b[0m\n\u001b[0m\u001b[0;32m   5816\u001b[0m             \u001b[1;32mreturn\u001b[0m \u001b[0mself\u001b[0m\u001b[1;33m.\u001b[0m\u001b[0m_constructor\u001b[0m\u001b[1;33m(\u001b[0m\u001b[0mnew_data\u001b[0m\u001b[1;33m)\u001b[0m\u001b[1;33m.\u001b[0m\u001b[0m__finalize__\u001b[0m\u001b[1;33m(\u001b[0m\u001b[0mself\u001b[0m\u001b[1;33m,\u001b[0m \u001b[0mmethod\u001b[0m\u001b[1;33m=\u001b[0m\u001b[1;34m\"astype\"\u001b[0m\u001b[1;33m)\u001b[0m\u001b[1;33m\u001b[0m\u001b[1;33m\u001b[0m\u001b[0m\n\u001b[0;32m   5817\u001b[0m \u001b[1;33m\u001b[0m\u001b[0m\n",
      "\u001b[1;32mC:\\ProgramData\\Anaconda3\\lib\\site-packages\\pandas\\core\\internals\\managers.py\u001b[0m in \u001b[0;36mastype\u001b[1;34m(self, dtype, copy, errors)\u001b[0m\n\u001b[0;32m    416\u001b[0m \u001b[1;33m\u001b[0m\u001b[0m\n\u001b[0;32m    417\u001b[0m     \u001b[1;32mdef\u001b[0m \u001b[0mastype\u001b[0m\u001b[1;33m(\u001b[0m\u001b[0mself\u001b[0m\u001b[1;33m:\u001b[0m \u001b[0mT\u001b[0m\u001b[1;33m,\u001b[0m \u001b[0mdtype\u001b[0m\u001b[1;33m,\u001b[0m \u001b[0mcopy\u001b[0m\u001b[1;33m:\u001b[0m \u001b[0mbool\u001b[0m \u001b[1;33m=\u001b[0m \u001b[1;32mFalse\u001b[0m\u001b[1;33m,\u001b[0m \u001b[0merrors\u001b[0m\u001b[1;33m:\u001b[0m \u001b[0mstr\u001b[0m \u001b[1;33m=\u001b[0m \u001b[1;34m\"raise\"\u001b[0m\u001b[1;33m)\u001b[0m \u001b[1;33m->\u001b[0m \u001b[0mT\u001b[0m\u001b[1;33m:\u001b[0m\u001b[1;33m\u001b[0m\u001b[1;33m\u001b[0m\u001b[0m\n\u001b[1;32m--> 418\u001b[1;33m         \u001b[1;32mreturn\u001b[0m \u001b[0mself\u001b[0m\u001b[1;33m.\u001b[0m\u001b[0mapply\u001b[0m\u001b[1;33m(\u001b[0m\u001b[1;34m\"astype\"\u001b[0m\u001b[1;33m,\u001b[0m \u001b[0mdtype\u001b[0m\u001b[1;33m=\u001b[0m\u001b[0mdtype\u001b[0m\u001b[1;33m,\u001b[0m \u001b[0mcopy\u001b[0m\u001b[1;33m=\u001b[0m\u001b[0mcopy\u001b[0m\u001b[1;33m,\u001b[0m \u001b[0merrors\u001b[0m\u001b[1;33m=\u001b[0m\u001b[0merrors\u001b[0m\u001b[1;33m)\u001b[0m\u001b[1;33m\u001b[0m\u001b[1;33m\u001b[0m\u001b[0m\n\u001b[0m\u001b[0;32m    419\u001b[0m \u001b[1;33m\u001b[0m\u001b[0m\n\u001b[0;32m    420\u001b[0m     def convert(\n",
      "\u001b[1;32mC:\\ProgramData\\Anaconda3\\lib\\site-packages\\pandas\\core\\internals\\managers.py\u001b[0m in \u001b[0;36mapply\u001b[1;34m(self, f, align_keys, ignore_failures, **kwargs)\u001b[0m\n\u001b[0;32m    325\u001b[0m                     \u001b[0mapplied\u001b[0m \u001b[1;33m=\u001b[0m \u001b[0mb\u001b[0m\u001b[1;33m.\u001b[0m\u001b[0mapply\u001b[0m\u001b[1;33m(\u001b[0m\u001b[0mf\u001b[0m\u001b[1;33m,\u001b[0m \u001b[1;33m**\u001b[0m\u001b[0mkwargs\u001b[0m\u001b[1;33m)\u001b[0m\u001b[1;33m\u001b[0m\u001b[1;33m\u001b[0m\u001b[0m\n\u001b[0;32m    326\u001b[0m                 \u001b[1;32melse\u001b[0m\u001b[1;33m:\u001b[0m\u001b[1;33m\u001b[0m\u001b[1;33m\u001b[0m\u001b[0m\n\u001b[1;32m--> 327\u001b[1;33m                     \u001b[0mapplied\u001b[0m \u001b[1;33m=\u001b[0m \u001b[0mgetattr\u001b[0m\u001b[1;33m(\u001b[0m\u001b[0mb\u001b[0m\u001b[1;33m,\u001b[0m \u001b[0mf\u001b[0m\u001b[1;33m)\u001b[0m\u001b[1;33m(\u001b[0m\u001b[1;33m**\u001b[0m\u001b[0mkwargs\u001b[0m\u001b[1;33m)\u001b[0m\u001b[1;33m\u001b[0m\u001b[1;33m\u001b[0m\u001b[0m\n\u001b[0m\u001b[0;32m    328\u001b[0m             \u001b[1;32mexcept\u001b[0m \u001b[1;33m(\u001b[0m\u001b[0mTypeError\u001b[0m\u001b[1;33m,\u001b[0m \u001b[0mNotImplementedError\u001b[0m\u001b[1;33m)\u001b[0m\u001b[1;33m:\u001b[0m\u001b[1;33m\u001b[0m\u001b[1;33m\u001b[0m\u001b[0m\n\u001b[0;32m    329\u001b[0m                 \u001b[1;32mif\u001b[0m \u001b[1;32mnot\u001b[0m \u001b[0mignore_failures\u001b[0m\u001b[1;33m:\u001b[0m\u001b[1;33m\u001b[0m\u001b[1;33m\u001b[0m\u001b[0m\n",
      "\u001b[1;32mC:\\ProgramData\\Anaconda3\\lib\\site-packages\\pandas\\core\\internals\\blocks.py\u001b[0m in \u001b[0;36mastype\u001b[1;34m(self, dtype, copy, errors)\u001b[0m\n\u001b[0;32m    589\u001b[0m         \u001b[0mvalues\u001b[0m \u001b[1;33m=\u001b[0m \u001b[0mself\u001b[0m\u001b[1;33m.\u001b[0m\u001b[0mvalues\u001b[0m\u001b[1;33m\u001b[0m\u001b[1;33m\u001b[0m\u001b[0m\n\u001b[0;32m    590\u001b[0m \u001b[1;33m\u001b[0m\u001b[0m\n\u001b[1;32m--> 591\u001b[1;33m         \u001b[0mnew_values\u001b[0m \u001b[1;33m=\u001b[0m \u001b[0mastype_array_safe\u001b[0m\u001b[1;33m(\u001b[0m\u001b[0mvalues\u001b[0m\u001b[1;33m,\u001b[0m \u001b[0mdtype\u001b[0m\u001b[1;33m,\u001b[0m \u001b[0mcopy\u001b[0m\u001b[1;33m=\u001b[0m\u001b[0mcopy\u001b[0m\u001b[1;33m,\u001b[0m \u001b[0merrors\u001b[0m\u001b[1;33m=\u001b[0m\u001b[0merrors\u001b[0m\u001b[1;33m)\u001b[0m\u001b[1;33m\u001b[0m\u001b[1;33m\u001b[0m\u001b[0m\n\u001b[0m\u001b[0;32m    592\u001b[0m \u001b[1;33m\u001b[0m\u001b[0m\n\u001b[0;32m    593\u001b[0m         \u001b[0mnew_values\u001b[0m \u001b[1;33m=\u001b[0m \u001b[0mmaybe_coerce_values\u001b[0m\u001b[1;33m(\u001b[0m\u001b[0mnew_values\u001b[0m\u001b[1;33m)\u001b[0m\u001b[1;33m\u001b[0m\u001b[1;33m\u001b[0m\u001b[0m\n",
      "\u001b[1;32mC:\\ProgramData\\Anaconda3\\lib\\site-packages\\pandas\\core\\dtypes\\cast.py\u001b[0m in \u001b[0;36mastype_array_safe\u001b[1;34m(values, dtype, copy, errors)\u001b[0m\n\u001b[0;32m   1307\u001b[0m \u001b[1;33m\u001b[0m\u001b[0m\n\u001b[0;32m   1308\u001b[0m     \u001b[1;32mtry\u001b[0m\u001b[1;33m:\u001b[0m\u001b[1;33m\u001b[0m\u001b[1;33m\u001b[0m\u001b[0m\n\u001b[1;32m-> 1309\u001b[1;33m         \u001b[0mnew_values\u001b[0m \u001b[1;33m=\u001b[0m \u001b[0mastype_array\u001b[0m\u001b[1;33m(\u001b[0m\u001b[0mvalues\u001b[0m\u001b[1;33m,\u001b[0m \u001b[0mdtype\u001b[0m\u001b[1;33m,\u001b[0m \u001b[0mcopy\u001b[0m\u001b[1;33m=\u001b[0m\u001b[0mcopy\u001b[0m\u001b[1;33m)\u001b[0m\u001b[1;33m\u001b[0m\u001b[1;33m\u001b[0m\u001b[0m\n\u001b[0m\u001b[0;32m   1310\u001b[0m     \u001b[1;32mexcept\u001b[0m \u001b[1;33m(\u001b[0m\u001b[0mValueError\u001b[0m\u001b[1;33m,\u001b[0m \u001b[0mTypeError\u001b[0m\u001b[1;33m)\u001b[0m\u001b[1;33m:\u001b[0m\u001b[1;33m\u001b[0m\u001b[1;33m\u001b[0m\u001b[0m\n\u001b[0;32m   1311\u001b[0m         \u001b[1;31m# e.g. astype_nansafe can fail on object-dtype of strings\u001b[0m\u001b[1;33m\u001b[0m\u001b[1;33m\u001b[0m\u001b[0m\n",
      "\u001b[1;32mC:\\ProgramData\\Anaconda3\\lib\\site-packages\\pandas\\core\\dtypes\\cast.py\u001b[0m in \u001b[0;36mastype_array\u001b[1;34m(values, dtype, copy)\u001b[0m\n\u001b[0;32m   1255\u001b[0m \u001b[1;33m\u001b[0m\u001b[0m\n\u001b[0;32m   1256\u001b[0m     \u001b[1;32melse\u001b[0m\u001b[1;33m:\u001b[0m\u001b[1;33m\u001b[0m\u001b[1;33m\u001b[0m\u001b[0m\n\u001b[1;32m-> 1257\u001b[1;33m         \u001b[0mvalues\u001b[0m \u001b[1;33m=\u001b[0m \u001b[0mastype_nansafe\u001b[0m\u001b[1;33m(\u001b[0m\u001b[0mvalues\u001b[0m\u001b[1;33m,\u001b[0m \u001b[0mdtype\u001b[0m\u001b[1;33m,\u001b[0m \u001b[0mcopy\u001b[0m\u001b[1;33m=\u001b[0m\u001b[0mcopy\u001b[0m\u001b[1;33m)\u001b[0m\u001b[1;33m\u001b[0m\u001b[1;33m\u001b[0m\u001b[0m\n\u001b[0m\u001b[0;32m   1258\u001b[0m \u001b[1;33m\u001b[0m\u001b[0m\n\u001b[0;32m   1259\u001b[0m     \u001b[1;31m# in pandas we don't store numpy str dtypes, so convert to object\u001b[0m\u001b[1;33m\u001b[0m\u001b[1;33m\u001b[0m\u001b[0m\n",
      "\u001b[1;32mC:\\ProgramData\\Anaconda3\\lib\\site-packages\\pandas\\core\\dtypes\\cast.py\u001b[0m in \u001b[0;36mastype_nansafe\u001b[1;34m(arr, dtype, copy, skipna)\u001b[0m\n\u001b[0;32m   1199\u001b[0m     \u001b[1;32mif\u001b[0m \u001b[0mcopy\u001b[0m \u001b[1;32mor\u001b[0m \u001b[0mis_object_dtype\u001b[0m\u001b[1;33m(\u001b[0m\u001b[0marr\u001b[0m\u001b[1;33m.\u001b[0m\u001b[0mdtype\u001b[0m\u001b[1;33m)\u001b[0m \u001b[1;32mor\u001b[0m \u001b[0mis_object_dtype\u001b[0m\u001b[1;33m(\u001b[0m\u001b[0mdtype\u001b[0m\u001b[1;33m)\u001b[0m\u001b[1;33m:\u001b[0m\u001b[1;33m\u001b[0m\u001b[1;33m\u001b[0m\u001b[0m\n\u001b[0;32m   1200\u001b[0m         \u001b[1;31m# Explicit copy, or required since NumPy can't view from / to object.\u001b[0m\u001b[1;33m\u001b[0m\u001b[1;33m\u001b[0m\u001b[0m\n\u001b[1;32m-> 1201\u001b[1;33m         \u001b[1;32mreturn\u001b[0m \u001b[0marr\u001b[0m\u001b[1;33m.\u001b[0m\u001b[0mastype\u001b[0m\u001b[1;33m(\u001b[0m\u001b[0mdtype\u001b[0m\u001b[1;33m,\u001b[0m \u001b[0mcopy\u001b[0m\u001b[1;33m=\u001b[0m\u001b[1;32mTrue\u001b[0m\u001b[1;33m)\u001b[0m\u001b[1;33m\u001b[0m\u001b[1;33m\u001b[0m\u001b[0m\n\u001b[0m\u001b[0;32m   1202\u001b[0m \u001b[1;33m\u001b[0m\u001b[0m\n\u001b[0;32m   1203\u001b[0m     \u001b[1;32mreturn\u001b[0m \u001b[0marr\u001b[0m\u001b[1;33m.\u001b[0m\u001b[0mastype\u001b[0m\u001b[1;33m(\u001b[0m\u001b[0mdtype\u001b[0m\u001b[1;33m,\u001b[0m \u001b[0mcopy\u001b[0m\u001b[1;33m=\u001b[0m\u001b[0mcopy\u001b[0m\u001b[1;33m)\u001b[0m\u001b[1;33m\u001b[0m\u001b[1;33m\u001b[0m\u001b[0m\n",
      "\u001b[1;31mValueError\u001b[0m: could not convert string to float: 'Not available'"
     ]
    }
   ],
   "source": [
    "df = df[df['Rating'] != 'Not Available']\n",
    "df['Rating'] = df['Rating'].astype(float)\n",
    "df"
   ]
  },
  {
   "cell_type": "code",
   "execution_count": 7,
   "id": "cc6d55b1",
   "metadata": {
    "execution": {
     "iopub.execute_input": "2022-05-30T16:02:59.349485Z",
     "iopub.status.busy": "2022-05-30T16:02:59.349140Z",
     "iopub.status.idle": "2022-05-30T16:02:59.366745Z",
     "shell.execute_reply": "2022-05-30T16:02:59.365444Z"
    },
    "papermill": {
     "duration": 0.026511,
     "end_time": "2022-05-30T16:02:59.368745",
     "exception": false,
     "start_time": "2022-05-30T16:02:59.342234",
     "status": "completed"
    },
    "tags": []
   },
   "outputs": [
    {
     "name": "stdout",
     "output_type": "stream",
     "text": [
      "<class 'pandas.core.frame.DataFrame'>\n",
      "Int64Index: 3440 entries, 0 to 3521\n",
      "Data columns (total 6 columns):\n",
      " #   Column              Non-Null Count  Dtype  \n",
      "---  ------              --------------  -----  \n",
      " 0   Course Name         3440 non-null   object \n",
      " 1   University          3440 non-null   object \n",
      " 2   Difficulty Level    3440 non-null   object \n",
      " 3   Course Rating       3440 non-null   float64\n",
      " 4   Course Description  3440 non-null   object \n",
      " 5   Skills              3440 non-null   object \n",
      "dtypes: float64(1), object(5)\n",
      "memory usage: 188.1+ KB\n"
     ]
    }
   ],
   "source": [
    "df.info()"
   ]
  },
  {
   "cell_type": "code",
   "execution_count": 8,
   "id": "0f31faec",
   "metadata": {
    "execution": {
     "iopub.execute_input": "2022-05-30T16:02:59.381553Z",
     "iopub.status.busy": "2022-05-30T16:02:59.380531Z",
     "iopub.status.idle": "2022-05-30T16:02:59.686642Z",
     "shell.execute_reply": "2022-05-30T16:02:59.685708Z"
    },
    "papermill": {
     "duration": 0.314481,
     "end_time": "2022-05-30T16:02:59.688696",
     "exception": false,
     "start_time": "2022-05-30T16:02:59.374215",
     "status": "completed"
    },
    "tags": []
   },
   "outputs": [
    {
     "name": "stderr",
     "output_type": "stream",
     "text": [
      "/opt/conda/lib/python3.7/site-packages/seaborn/distributions.py:2619: FutureWarning: `distplot` is a deprecated function and will be removed in a future version. Please adapt your code to use either `displot` (a figure-level function with similar flexibility) or `histplot` (an axes-level function for histograms).\n",
      "  warnings.warn(msg, FutureWarning)\n"
     ]
    },
    {
     "data": {
      "image/png": "[encoded data removed]",
      "text/plain": [
       "<Figure size 432x288 with 1 Axes>"
      ]
     },
     "metadata": {
      "needs_background": "light"
     },
     "output_type": "display_data"
    }
   ],
   "source": [
    "sns.distplot(df['Course Rating'])\n",
    "plt.show()"
   ]
  },
  {
   "cell_type": "code",
   "execution_count": 9,
   "id": "0ae2d4cb",
   "metadata": {
    "execution": {
     "iopub.execute_input": "2022-05-30T16:02:59.701968Z",
     "iopub.status.busy": "2022-05-30T16:02:59.701583Z",
     "iopub.status.idle": "2022-05-30T16:02:59.752274Z",
     "shell.execute_reply": "2022-05-30T16:02:59.751286Z"
    },
    "papermill": {
     "duration": 0.059883,
     "end_time": "2022-05-30T16:02:59.754518",
     "exception": false,
     "start_time": "2022-05-30T16:02:59.694635",
     "status": "completed"
    },
    "tags": []
   },
   "outputs": [],
   "source": [
    "df['Course Name']=df['Course Name'].apply(lambda x:x.replace(':',' '))\n",
    "df['Course Name']=df['Course Name'].apply(lambda x:x.replace(',',' '))\n",
    "df['Course Name']=df['Course Name'].apply(lambda x:x.replace('-',' '))\n",
    "\n",
    "df['Course Description']=df['Course Description'].apply(lambda x:x.replace('-',' '))\n",
    "df['Course Description']=df['Course Description'].apply(lambda x:x.replace('.',' '))\n",
    "df['Course Description']=df['Course Description'].apply(lambda x:x.replace(':',' '))\n",
    "df['Course Description']=df['Course Description'].apply(lambda x:x.replace(',',' '))\n",
    "\n",
    "df['Skills']=df['Skills'].apply(lambda x:x.replace('-',' '))\n",
    "df['Skills']=df['Skills'].apply(lambda x:x.replace('.',' '))\n",
    "df['Skills']=df['Skills'].apply(lambda x:x.replace(':',' '))\n",
    "df['Skills']=df['Skills'].apply(lambda x:x.replace(',',' '))\n",
    "df['Skills']=df['Skills'].apply(lambda x:x.replace('(',' '))\n",
    "df['Skills']=df['Skills'].apply(lambda x:x.replace(')',' '))"
   ]
  },
  {
   "cell_type": "code",
   "execution_count": 10,
   "id": "6408b59e",
   "metadata": {
    "execution": {
     "iopub.execute_input": "2022-05-30T16:02:59.767793Z",
     "iopub.status.busy": "2022-05-30T16:02:59.767387Z",
     "iopub.status.idle": "2022-05-30T16:02:59.779630Z",
     "shell.execute_reply": "2022-05-30T16:02:59.778927Z"
    },
    "papermill": {
     "duration": 0.020909,
     "end_time": "2022-05-30T16:02:59.781221",
     "exception": false,
     "start_time": "2022-05-30T16:02:59.760312",
     "status": "completed"
    },
    "tags": []
   },
   "outputs": [
    {
     "data": {
      "text/html": [
       "<div>\n",
       "<style scoped>\n",
       "    .dataframe tbody tr th:only-of-type {\n",
       "        vertical-align: middle;\n",
       "    }\n",
       "\n",
       "    .dataframe tbody tr th {\n",
       "        vertical-align: top;\n",
       "    }\n",
       "\n",
       "    .dataframe thead th {\n",
       "        text-align: right;\n",
       "    }\n",
       "</style>\n",
       "<table border=\"1\" class=\"dataframe\">\n",
       "  <thead>\n",
       "    <tr style=\"text-align: right;\">\n",
       "      <th></th>\n",
       "      <th>Course Name</th>\n",
       "      <th>University</th>\n",
       "      <th>Difficulty Level</th>\n",
       "      <th>Course Rating</th>\n",
       "      <th>Course Description</th>\n",
       "      <th>Skills</th>\n",
       "    </tr>\n",
       "  </thead>\n",
       "  <tbody>\n",
       "    <tr>\n",
       "      <th>0</th>\n",
       "      <td>Write A Feature Length Screenplay For Film Or ...</td>\n",
       "      <td>Michigan State University</td>\n",
       "      <td>Beginner</td>\n",
       "      <td>4.8</td>\n",
       "      <td>Write a Full Length Feature Film Script  In th...</td>\n",
       "      <td>Drama  Comedy  peering  screenwriting  film  D...</td>\n",
       "    </tr>\n",
       "    <tr>\n",
       "      <th>1</th>\n",
       "      <td>Business Strategy  Business Model Canvas Analy...</td>\n",
       "      <td>Coursera Project Network</td>\n",
       "      <td>Beginner</td>\n",
       "      <td>4.8</td>\n",
       "      <td>By the end of this guided project  you will be...</td>\n",
       "      <td>Finance  business plan  persona  user experien...</td>\n",
       "    </tr>\n",
       "    <tr>\n",
       "      <th>2</th>\n",
       "      <td>Silicon Thin Film Solar Cells</td>\n",
       "      <td>�cole Polytechnique</td>\n",
       "      <td>Advanced</td>\n",
       "      <td>4.1</td>\n",
       "      <td>This course consists of a general presentation...</td>\n",
       "      <td>chemistry  physics  Solar Energy  film  lambda...</td>\n",
       "    </tr>\n",
       "    <tr>\n",
       "      <th>3</th>\n",
       "      <td>Finance for Managers</td>\n",
       "      <td>IESE Business School</td>\n",
       "      <td>Intermediate</td>\n",
       "      <td>4.8</td>\n",
       "      <td>When it comes to numbers  there is always more...</td>\n",
       "      <td>accounts receivable  dupont analysis  analysis...</td>\n",
       "    </tr>\n",
       "    <tr>\n",
       "      <th>4</th>\n",
       "      <td>Retrieve Data using Single Table SQL Queries</td>\n",
       "      <td>Coursera Project Network</td>\n",
       "      <td>Beginner</td>\n",
       "      <td>4.6</td>\n",
       "      <td>In this course you�ll learn how to effectively...</td>\n",
       "      <td>Data Analysis  select  sql   database manageme...</td>\n",
       "    </tr>\n",
       "  </tbody>\n",
       "</table>\n",
       "</div>"
      ],
      "text/plain": [
       "                                         Course Name  \\\n",
       "0  Write A Feature Length Screenplay For Film Or ...   \n",
       "1  Business Strategy  Business Model Canvas Analy...   \n",
       "2                      Silicon Thin Film Solar Cells   \n",
       "3                               Finance for Managers   \n",
       "4       Retrieve Data using Single Table SQL Queries   \n",
       "\n",
       "                  University Difficulty Level  Course Rating  \\\n",
       "0  Michigan State University         Beginner            4.8   \n",
       "1   Coursera Project Network         Beginner            4.8   \n",
       "2        �cole Polytechnique         Advanced            4.1   \n",
       "3       IESE Business School     Intermediate            4.8   \n",
       "4   Coursera Project Network         Beginner            4.6   \n",
       "\n",
       "                                  Course Description  \\\n",
       "0  Write a Full Length Feature Film Script  In th...   \n",
       "1  By the end of this guided project  you will be...   \n",
       "2  This course consists of a general presentation...   \n",
       "3  When it comes to numbers  there is always more...   \n",
       "4  In this course you�ll learn how to effectively...   \n",
       "\n",
       "                                              Skills  \n",
       "0  Drama  Comedy  peering  screenwriting  film  D...  \n",
       "1  Finance  business plan  persona  user experien...  \n",
       "2  chemistry  physics  Solar Energy  film  lambda...  \n",
       "3  accounts receivable  dupont analysis  analysis...  \n",
       "4  Data Analysis  select  sql   database manageme...  "
      ]
     },
     "execution_count": 10,
     "metadata": {},
     "output_type": "execute_result"
    }
   ],
   "source": [
    "df.head()"
   ]
  },
  {
   "cell_type": "code",
   "execution_count": 11,
   "id": "3d843354",
   "metadata": {
    "execution": {
     "iopub.execute_input": "2022-05-30T16:02:59.795012Z",
     "iopub.status.busy": "2022-05-30T16:02:59.794308Z",
     "iopub.status.idle": "2022-05-30T16:02:59.817848Z",
     "shell.execute_reply": "2022-05-30T16:02:59.816789Z"
    },
    "papermill": {
     "duration": 0.032621,
     "end_time": "2022-05-30T16:02:59.819871",
     "exception": false,
     "start_time": "2022-05-30T16:02:59.787250",
     "status": "completed"
    },
    "tags": []
   },
   "outputs": [
    {
     "data": {
      "text/plain": [
       "0       Write A Feature Length Screenplay For Film Or ...\n",
       "1       Business Strategy  Business Model Canvas Analy...\n",
       "2       Silicon Thin Film Solar Cells This course cons...\n",
       "3       Finance for Managers When it comes to numbers ...\n",
       "4       Retrieve Data using Single Table SQL Queries I...\n",
       "                              ...                        \n",
       "3517    Capstone  Retrieving  Processing  and Visualiz...\n",
       "3518    Patrick Henry  Forgotten Founder �Give me libe...\n",
       "3519    Business intelligence and data analytics  Gene...\n",
       "3520    Rigid Body Dynamics This course teaches dynami...\n",
       "3521    Architecting with Google Kubernetes Engine  Pr...\n",
       "Name: Final Col, Length: 3440, dtype: object"
      ]
     },
     "execution_count": 11,
     "metadata": {},
     "output_type": "execute_result"
    }
   ],
   "source": [
    "df['Final Col']=df['Course Name']+' '+df['Course Description']+' '+df['Skills']\n",
    "df['Final Col']"
   ]
  },
  {
   "cell_type": "code",
   "execution_count": 12,
   "id": "956ed8a0",
   "metadata": {
    "execution": {
     "iopub.execute_input": "2022-05-30T16:02:59.833791Z",
     "iopub.status.busy": "2022-05-30T16:02:59.833134Z",
     "iopub.status.idle": "2022-05-30T16:02:59.845702Z",
     "shell.execute_reply": "2022-05-30T16:02:59.844840Z"
    },
    "papermill": {
     "duration": 0.021886,
     "end_time": "2022-05-30T16:02:59.847836",
     "exception": false,
     "start_time": "2022-05-30T16:02:59.825950",
     "status": "completed"
    },
    "tags": []
   },
   "outputs": [
    {
     "data": {
      "text/html": [
       "<div>\n",
       "<style scoped>\n",
       "    .dataframe tbody tr th:only-of-type {\n",
       "        vertical-align: middle;\n",
       "    }\n",
       "\n",
       "    .dataframe tbody tr th {\n",
       "        vertical-align: top;\n",
       "    }\n",
       "\n",
       "    .dataframe thead th {\n",
       "        text-align: right;\n",
       "    }\n",
       "</style>\n",
       "<table border=\"1\" class=\"dataframe\">\n",
       "  <thead>\n",
       "    <tr style=\"text-align: right;\">\n",
       "      <th></th>\n",
       "      <th>Course Name</th>\n",
       "      <th>University</th>\n",
       "      <th>Difficulty Level</th>\n",
       "      <th>Course Rating</th>\n",
       "      <th>Course Description</th>\n",
       "      <th>Skills</th>\n",
       "      <th>Final Col</th>\n",
       "    </tr>\n",
       "  </thead>\n",
       "  <tbody>\n",
       "    <tr>\n",
       "      <th>0</th>\n",
       "      <td>Write A Feature Length Screenplay For Film Or ...</td>\n",
       "      <td>Michigan State University</td>\n",
       "      <td>Beginner</td>\n",
       "      <td>4.8</td>\n",
       "      <td>Write a Full Length Feature Film Script  In th...</td>\n",
       "      <td>Drama  Comedy  peering  screenwriting  film  D...</td>\n",
       "      <td>Write A Feature Length Screenplay For Film Or ...</td>\n",
       "    </tr>\n",
       "    <tr>\n",
       "      <th>1</th>\n",
       "      <td>Business Strategy  Business Model Canvas Analy...</td>\n",
       "      <td>Coursera Project Network</td>\n",
       "      <td>Beginner</td>\n",
       "      <td>4.8</td>\n",
       "      <td>By the end of this guided project  you will be...</td>\n",
       "      <td>Finance  business plan  persona  user experien...</td>\n",
       "      <td>Business Strategy  Business Model Canvas Analy...</td>\n",
       "    </tr>\n",
       "    <tr>\n",
       "      <th>2</th>\n",
       "      <td>Silicon Thin Film Solar Cells</td>\n",
       "      <td>�cole Polytechnique</td>\n",
       "      <td>Advanced</td>\n",
       "      <td>4.1</td>\n",
       "      <td>This course consists of a general presentation...</td>\n",
       "      <td>chemistry  physics  Solar Energy  film  lambda...</td>\n",
       "      <td>Silicon Thin Film Solar Cells This course cons...</td>\n",
       "    </tr>\n",
       "    <tr>\n",
       "      <th>3</th>\n",
       "      <td>Finance for Managers</td>\n",
       "      <td>IESE Business School</td>\n",
       "      <td>Intermediate</td>\n",
       "      <td>4.8</td>\n",
       "      <td>When it comes to numbers  there is always more...</td>\n",
       "      <td>accounts receivable  dupont analysis  analysis...</td>\n",
       "      <td>Finance for Managers When it comes to numbers ...</td>\n",
       "    </tr>\n",
       "    <tr>\n",
       "      <th>4</th>\n",
       "      <td>Retrieve Data using Single Table SQL Queries</td>\n",
       "      <td>Coursera Project Network</td>\n",
       "      <td>Beginner</td>\n",
       "      <td>4.6</td>\n",
       "      <td>In this course you�ll learn how to effectively...</td>\n",
       "      <td>Data Analysis  select  sql   database manageme...</td>\n",
       "      <td>Retrieve Data using Single Table SQL Queries I...</td>\n",
       "    </tr>\n",
       "  </tbody>\n",
       "</table>\n",
       "</div>"
      ],
      "text/plain": [
       "                                         Course Name  \\\n",
       "0  Write A Feature Length Screenplay For Film Or ...   \n",
       "1  Business Strategy  Business Model Canvas Analy...   \n",
       "2                      Silicon Thin Film Solar Cells   \n",
       "3                               Finance for Managers   \n",
       "4       Retrieve Data using Single Table SQL Queries   \n",
       "\n",
       "                  University Difficulty Level  Course Rating  \\\n",
       "0  Michigan State University         Beginner            4.8   \n",
       "1   Coursera Project Network         Beginner            4.8   \n",
       "2        �cole Polytechnique         Advanced            4.1   \n",
       "3       IESE Business School     Intermediate            4.8   \n",
       "4   Coursera Project Network         Beginner            4.6   \n",
       "\n",
       "                                  Course Description  \\\n",
       "0  Write a Full Length Feature Film Script  In th...   \n",
       "1  By the end of this guided project  you will be...   \n",
       "2  This course consists of a general presentation...   \n",
       "3  When it comes to numbers  there is always more...   \n",
       "4  In this course you�ll learn how to effectively...   \n",
       "\n",
       "                                              Skills  \\\n",
       "0  Drama  Comedy  peering  screenwriting  film  D...   \n",
       "1  Finance  business plan  persona  user experien...   \n",
       "2  chemistry  physics  Solar Energy  film  lambda...   \n",
       "3  accounts receivable  dupont analysis  analysis...   \n",
       "4  Data Analysis  select  sql   database manageme...   \n",
       "\n",
       "                                           Final Col  \n",
       "0  Write A Feature Length Screenplay For Film Or ...  \n",
       "1  Business Strategy  Business Model Canvas Analy...  \n",
       "2  Silicon Thin Film Solar Cells This course cons...  \n",
       "3  Finance for Managers When it comes to numbers ...  \n",
       "4  Retrieve Data using Single Table SQL Queries I...  "
      ]
     },
     "execution_count": 12,
     "metadata": {},
     "output_type": "execute_result"
    }
   ],
   "source": [
    "df.head()"
   ]
  },
  {
   "cell_type": "code",
   "execution_count": 13,
   "id": "4f487299",
   "metadata": {
    "execution": {
     "iopub.execute_input": "2022-05-30T16:02:59.861443Z",
     "iopub.status.busy": "2022-05-30T16:02:59.860984Z",
     "iopub.status.idle": "2022-05-30T16:03:00.568241Z",
     "shell.execute_reply": "2022-05-30T16:03:00.567116Z"
    },
    "papermill": {
     "duration": 0.716721,
     "end_time": "2022-05-30T16:03:00.570731",
     "exception": false,
     "start_time": "2022-05-30T16:02:59.854010",
     "status": "completed"
    },
    "tags": []
   },
   "outputs": [],
   "source": [
    "from sklearn.feature_extraction.text import TfidfVectorizer\n",
    "\n",
    "\n",
    "tfidf = TfidfVectorizer(stop_words='english')\n",
    "\n",
    "df['Final Col'] = df['Final Col'].fillna('')\n",
    "\n",
    "\n",
    "tfidf_matrix = tfidf.fit_transform(df['Final Col'])"
   ]
  },
  {
   "cell_type": "code",
   "execution_count": 14,
   "id": "9a610b11",
   "metadata": {
    "execution": {
     "iopub.execute_input": "2022-05-30T16:03:00.585605Z",
     "iopub.status.busy": "2022-05-30T16:03:00.585132Z",
     "iopub.status.idle": "2022-05-30T16:03:01.362644Z",
     "shell.execute_reply": "2022-05-30T16:03:01.361736Z"
    },
    "papermill": {
     "duration": 0.787606,
     "end_time": "2022-05-30T16:03:01.364834",
     "exception": false,
     "start_time": "2022-05-30T16:03:00.577228",
     "status": "completed"
    },
    "tags": []
   },
   "outputs": [],
   "source": [
    "from sklearn.metrics.pairwise import cosine_similarity\n",
    "similarity = cosine_similarity(tfidf_matrix)"
   ]
  },
  {
   "cell_type": "code",
   "execution_count": 15,
   "id": "3548aac8",
   "metadata": {
    "execution": {
     "iopub.execute_input": "2022-05-30T16:03:01.379778Z",
     "iopub.status.busy": "2022-05-30T16:03:01.379039Z",
     "iopub.status.idle": "2022-05-30T16:03:01.388373Z",
     "shell.execute_reply": "2022-05-30T16:03:01.387267Z"
    },
    "papermill": {
     "duration": 0.01898,
     "end_time": "2022-05-30T16:03:01.390596",
     "exception": false,
     "start_time": "2022-05-30T16:03:01.371616",
     "status": "completed"
    },
    "tags": []
   },
   "outputs": [
    {
     "data": {
      "text/plain": [
       "array([[1.00000000e+00, 2.35671951e-02, 3.31898443e-02, ...,\n",
       "        2.65934237e-02, 2.88534972e-02, 1.62411610e-02],\n",
       "       [2.35671951e-02, 1.00000000e+00, 1.03789655e-02, ...,\n",
       "        1.07348735e-01, 2.72740106e-03, 3.37001593e-02],\n",
       "       [3.31898443e-02, 1.03789655e-02, 1.00000000e+00, ...,\n",
       "        7.09104057e-03, 3.37804308e-02, 5.47578098e-03],\n",
       "       ...,\n",
       "       [2.65934237e-02, 1.07348735e-01, 7.09104057e-03, ...,\n",
       "        1.00000000e+00, 3.43474756e-04, 8.40399185e-03],\n",
       "       [2.88534972e-02, 2.72740106e-03, 3.37804308e-02, ...,\n",
       "        3.43474756e-04, 1.00000000e+00, 1.33946763e-03],\n",
       "       [1.62411610e-02, 3.37001593e-02, 5.47578098e-03, ...,\n",
       "        8.40399185e-03, 1.33946763e-03, 1.00000000e+00]])"
      ]
     },
     "execution_count": 15,
     "metadata": {},
     "output_type": "execute_result"
    }
   ],
   "source": [
    "similarity"
   ]
  },
  {
   "cell_type": "code",
   "execution_count": 16,
   "id": "bd291771",
   "metadata": {
    "execution": {
     "iopub.execute_input": "2022-05-30T16:03:01.404845Z",
     "iopub.status.busy": "2022-05-30T16:03:01.404447Z",
     "iopub.status.idle": "2022-05-30T16:03:01.410294Z",
     "shell.execute_reply": "2022-05-30T16:03:01.409279Z"
    },
    "papermill": {
     "duration": 0.015167,
     "end_time": "2022-05-30T16:03:01.412223",
     "exception": false,
     "start_time": "2022-05-30T16:03:01.397056",
     "status": "completed"
    },
    "tags": []
   },
   "outputs": [],
   "source": [
    "indices = pd.Series(df.index, index=df['Course Name']).drop_duplicates()"
   ]
  },
  {
   "cell_type": "code",
   "execution_count": 17,
   "id": "ede65c45",
   "metadata": {
    "execution": {
     "iopub.execute_input": "2022-05-30T16:03:01.426733Z",
     "iopub.status.busy": "2022-05-30T16:03:01.425996Z",
     "iopub.status.idle": "2022-05-30T16:03:01.432398Z",
     "shell.execute_reply": "2022-05-30T16:03:01.431687Z"
    },
    "papermill": {
     "duration": 0.015821,
     "end_time": "2022-05-30T16:03:01.434408",
     "exception": false,
     "start_time": "2022-05-30T16:03:01.418587",
     "status": "completed"
    },
    "tags": []
   },
   "outputs": [],
   "source": [
    "def get_recommendations(title, cosine_sim=similarity):\n",
    "    idx = indices[title]\n",
    "    sim_scores = list(enumerate(cosine_sim[idx]))\n",
    "    sim_scores = sorted(sim_scores, key=lambda x: x[1], reverse=True)\n",
    "    sim_scores = sim_scores[1:6]\n",
    "    courses = [i[0] for i in sim_scores]\n",
    "\n",
    "    return df['Course Name'].iloc[courses]"
   ]
  },
  {
   "cell_type": "code",
   "execution_count": 18,
   "id": "d481a3b9",
   "metadata": {
    "execution": {
     "iopub.execute_input": "2022-05-30T16:03:01.448721Z",
     "iopub.status.busy": "2022-05-30T16:03:01.448346Z",
     "iopub.status.idle": "2022-05-30T16:03:01.462745Z",
     "shell.execute_reply": "2022-05-30T16:03:01.461849Z"
    },
    "papermill": {
     "duration": 0.023858,
     "end_time": "2022-05-30T16:03:01.464649",
     "exception": false,
     "start_time": "2022-05-30T16:03:01.440791",
     "status": "completed"
    },
    "tags": []
   },
   "outputs": [
    {
     "data": {
      "text/plain": [
       "419                    Finance for Non Financial Managers\n",
       "1839    Fundamentals of financial and management accou...\n",
       "1891          Accounting and Finance for IT professionals\n",
       "708     Understanding Financial Statements  Company Po...\n",
       "1985                  Introduction to Finance  The Basics\n",
       "Name: Course Name, dtype: object"
      ]
     },
     "execution_count": 18,
     "metadata": {},
     "output_type": "execute_result"
    }
   ],
   "source": [
    "get_recommendations('Finance for Managers')"
   ]
  },
  {
   "cell_type": "code",
   "execution_count": 19,
   "id": "b073b1d9",
   "metadata": {
    "execution": {
     "iopub.execute_input": "2022-05-30T16:03:01.479319Z",
     "iopub.status.busy": "2022-05-30T16:03:01.478634Z",
     "iopub.status.idle": "2022-05-30T16:03:01.488626Z",
     "shell.execute_reply": "2022-05-30T16:03:01.487972Z"
    },
    "papermill": {
     "duration": 0.019471,
     "end_time": "2022-05-30T16:03:01.490457",
     "exception": false,
     "start_time": "2022-05-30T16:03:01.470986",
     "status": "completed"
    },
    "tags": []
   },
   "outputs": [
    {
     "data": {
      "text/plain": [
       "1546                    Creating Database Tables with SQL\n",
       "2892                           Manipulating Data with SQL\n",
       "1731                 Advanced Relational Database and SQL\n",
       "92      Create Relational Database Tables Using SQLite...\n",
       "1500             Intermediate Relational Database and SQL\n",
       "Name: Course Name, dtype: object"
      ]
     },
     "execution_count": 19,
     "metadata": {},
     "output_type": "execute_result"
    }
   ],
   "source": [
    "get_recommendations('Retrieve Data using Single Table SQL Queries')"
   ]
  }
 ],
 "metadata": {
  "kernelspec": {
   "display_name": "Python 3 (ipykernel)",
   "language": "python",
   "name": "python3"
  },
  "language_info": {
   "codemirror_mode": {
    "name": "ipython",
    "version": 3
   },
   "file_extension": ".py",
   "mimetype": "text/x-python",
   "name": "python",
   "nbconvert_exporter": "python",
   "pygments_lexer": "ipython3",
   "version": "3.9.7"
  },
  "papermill": {
   "default_parameters": {},
   "duration": 13.008414,
   "end_time": "2022-05-30T16:03:02.217032",
   "environment_variables": {},
   "exception": null,
   "input_path": "__notebook__.ipynb",
   "output_path": "__notebook__.ipynb",
   "parameters": {},
   "start_time": "2022-05-30T16:02:49.208618",
   "version": "2.3.4"
  }
 },
 "nbformat": 4,
 "nbformat_minor": 5
}
