{
 "cells": [
  {
   "cell_type": "code",
   "execution_count": 1,
   "id": "9ced022a",
   "metadata": {
    "_cell_guid": "b1076dfc-b9ad-4769-8c92-a6c4dae69d19",
    "_uuid": "8f2839f25d086af736a60e9eeb907d3b93b6e0e5",
    "execution": {
     "iopub.execute_input": "2022-05-30T16:02:57.889065Z",
     "iopub.status.busy": "2022-05-30T16:02:57.888470Z",
     "iopub.status.idle": "2022-05-30T16:02:57.914569Z",
     "shell.execute_reply": "2022-05-30T16:02:57.913512Z"
    },
    "papermill": {
     "duration": 0.040597,
     "end_time": "2022-05-30T16:02:57.918029",
     "exception": false,
     "start_time": "2022-05-30T16:02:57.877432",
     "status": "completed"
    },
    "tags": []
   },
   "outputs": [],
   "source": [
    "# This Python 3 environment comes with many helpful analytics libraries installed\n",
    "# It is defined by the kaggle/python Docker image: https://github.com/kaggle/docker-python\n",
    "# For example, here's several helpful packages to load\n",
    "\n",
    "import numpy as np # linear algebra\n",
    "import pandas as pd # data processing, CSV file I/O (e.g. pd.read_csv)\n",
    "\n",
    "# Input data files are available in the read-only \"../input/\" directory\n",
    "# For example, running this (by clicking run or pressing Shift+Enter) will list all files under the input directory\n",
    "\n",
    "import os\n",
    "for dirname, _, filenames in os.walk('/kaggle/input'):\n",
    "    for filename in filenames:\n",
    "        print(os.path.join(dirname, filename))\n",
    "\n",
    "# You can write up to 20GB to the current directory (/kaggle/working/) that gets preserved as output when you create a version using \"Save & Run All\" \n",
    "# You can also write temporary files to /kaggle/temp/, but they won't be saved outside of the current session"
   ]
  },
  {
   "cell_type": "code",
   "execution_count": 18,
   "id": "28eb1e91",
   "metadata": {
    "execution": {
     "iopub.execute_input": "2022-05-30T16:02:57.934196Z",
     "iopub.status.busy": "2022-05-30T16:02:57.933465Z",
     "iopub.status.idle": "2022-05-30T16:02:58.158345Z",
     "shell.execute_reply": "2022-05-30T16:02:58.157260Z"
    },
    "papermill": {
     "duration": 0.235272,
     "end_time": "2022-05-30T16:02:58.160459",
     "exception": false,
     "start_time": "2022-05-30T16:02:57.925187",
     "status": "completed"
    },
    "tags": []
   },
   "outputs": [
    {
     "data": {
      "text/html": [
       "<div>\n",
       "<style scoped>\n",
       "    .dataframe tbody tr th:only-of-type {\n",
       "        vertical-align: middle;\n",
       "    }\n",
       "\n",
       "    .dataframe tbody tr th {\n",
       "        vertical-align: top;\n",
       "    }\n",
       "\n",
       "    .dataframe thead th {\n",
       "        text-align: right;\n",
       "    }\n",
       "</style>\n",
       "<table border=\"1\" class=\"dataframe\">\n",
       "  <thead>\n",
       "    <tr style=\"text-align: right;\">\n",
       "      <th></th>\n",
       "      <th>tittle</th>\n",
       "      <th>Offer by</th>\n",
       "      <th>Level</th>\n",
       "      <th>Rating</th>\n",
       "      <th>URL</th>\n",
       "      <th>Description</th>\n",
       "      <th>Skills</th>\n",
       "    </tr>\n",
       "  </thead>\n",
       "  <tbody>\n",
       "    <tr>\n",
       "      <th>0</th>\n",
       "      <td>Microsoft Azure Data Scientist Associate (DP-1...</td>\n",
       "      <td>Microsoft</td>\n",
       "      <td>Intermediate</td>\n",
       "      <td>4.5</td>\n",
       "      <td>https://in.coursera.org/professional-certifica...</td>\n",
       "      <td>This Professional Certificate is intended for ...</td>\n",
       "      <td>Manage Azure resources for machine learning De...</td>\n",
       "    </tr>\n",
       "    <tr>\n",
       "      <th>1</th>\n",
       "      <td>Machine Learning Specialization</td>\n",
       "      <td>Stanford University</td>\n",
       "      <td>Beginner</td>\n",
       "      <td>4.9</td>\n",
       "      <td>https://in.coursera.org/specializations/machin...</td>\n",
       "      <td>The Machine Learning Specialization is a found...</td>\n",
       "      <td>Decision Trees Artificial Neural Network Logis...</td>\n",
       "    </tr>\n",
       "    <tr>\n",
       "      <th>2</th>\n",
       "      <td>Machine Learning Engineering for Production (M...</td>\n",
       "      <td>DeepLearning.AI</td>\n",
       "      <td>Advanced</td>\n",
       "      <td>4.7</td>\n",
       "      <td>https://in.coursera.org/browse/data-science/ma...</td>\n",
       "      <td>Understanding machine learning and deep learni...</td>\n",
       "      <td>Managing Machine Learning Production Systems D...</td>\n",
       "    </tr>\n",
       "    <tr>\n",
       "      <th>3</th>\n",
       "      <td>Fundamentals of Machine Learning for Healthcare</td>\n",
       "      <td>Stanford University</td>\n",
       "      <td>Beginner</td>\n",
       "      <td>4.8</td>\n",
       "      <td>https://in.coursera.org/learn/fundamental-mach...</td>\n",
       "      <td>Machine learning and artificial intelligence h...</td>\n",
       "      <td>Machine learning Biostatistics Traditional com...</td>\n",
       "    </tr>\n",
       "    <tr>\n",
       "      <th>4</th>\n",
       "      <td>IBM Machine Learning Professional Certificate</td>\n",
       "      <td>IBM</td>\n",
       "      <td>Intermediate</td>\n",
       "      <td>4.6</td>\n",
       "      <td>https://in.coursera.org/professional-certifica...</td>\n",
       "      <td>Machine Learning is one of the most in-demand ...</td>\n",
       "      <td>Artificial Intelligence (AI) Machine Learning ...</td>\n",
       "    </tr>\n",
       "  </tbody>\n",
       "</table>\n",
       "</div>"
      ],
      "text/plain": [
       "                                              tittle             Offer by  \\\n",
       "0  Microsoft Azure Data Scientist Associate (DP-1...            Microsoft   \n",
       "1                    Machine Learning Specialization  Stanford University   \n",
       "2  Machine Learning Engineering for Production (M...      DeepLearning.AI   \n",
       "3    Fundamentals of Machine Learning for Healthcare  Stanford University   \n",
       "4      IBM Machine Learning Professional Certificate                  IBM   \n",
       "\n",
       "          Level Rating                                                URL  \\\n",
       "0  Intermediate    4.5  https://in.coursera.org/professional-certifica...   \n",
       "1      Beginner    4.9  https://in.coursera.org/specializations/machin...   \n",
       "2      Advanced    4.7  https://in.coursera.org/browse/data-science/ma...   \n",
       "3      Beginner    4.8  https://in.coursera.org/learn/fundamental-mach...   \n",
       "4  Intermediate    4.6  https://in.coursera.org/professional-certifica...   \n",
       "\n",
       "                                         Description  \\\n",
       "0  This Professional Certificate is intended for ...   \n",
       "1  The Machine Learning Specialization is a found...   \n",
       "2  Understanding machine learning and deep learni...   \n",
       "3  Machine learning and artificial intelligence h...   \n",
       "4  Machine Learning is one of the most in-demand ...   \n",
       "\n",
       "                                              Skills  \n",
       "0  Manage Azure resources for machine learning De...  \n",
       "1  Decision Trees Artificial Neural Network Logis...  \n",
       "2  Managing Machine Learning Production Systems D...  \n",
       "3  Machine learning Biostatistics Traditional com...  \n",
       "4  Artificial Intelligence (AI) Machine Learning ...  "
      ]
     },
     "execution_count": 18,
     "metadata": {},
     "output_type": "execute_result"
    }
   ],
   "source": [
    "df=pd.read_csv('Coursera.csv',encoding = 'utf-8', encoding_errors='ignore')\n",
    "df.head()"
   ]
  },
  {
   "cell_type": "code",
   "execution_count": 8,
   "id": "7050dc8c",
   "metadata": {
    "execution": {
     "iopub.execute_input": "2022-05-30T16:02:58.171959Z",
     "iopub.status.busy": "2022-05-30T16:02:58.171548Z",
     "iopub.status.idle": "2022-05-30T16:02:58.191164Z",
     "shell.execute_reply": "2022-05-30T16:02:58.190099Z"
    },
    "papermill": {
     "duration": 0.028172,
     "end_time": "2022-05-30T16:02:58.193481",
     "exception": false,
     "start_time": "2022-05-30T16:02:58.165309",
     "status": "completed"
    },
    "tags": []
   },
   "outputs": [
    {
     "data": {
      "text/html": [
       "<div>\n",
       "<style scoped>\n",
       "    .dataframe tbody tr th:only-of-type {\n",
       "        vertical-align: middle;\n",
       "    }\n",
       "\n",
       "    .dataframe tbody tr th {\n",
       "        vertical-align: top;\n",
       "    }\n",
       "\n",
       "    .dataframe thead th {\n",
       "        text-align: right;\n",
       "    }\n",
       "</style>\n",
       "<table border=\"1\" class=\"dataframe\">\n",
       "  <thead>\n",
       "    <tr style=\"text-align: right;\">\n",
       "      <th></th>\n",
       "      <th>tittle</th>\n",
       "      <th>Offer by</th>\n",
       "      <th>Level</th>\n",
       "      <th>Rating</th>\n",
       "      <th>Description</th>\n",
       "      <th>Skills</th>\n",
       "    </tr>\n",
       "  </thead>\n",
       "  <tbody>\n",
       "    <tr>\n",
       "      <th>0</th>\n",
       "      <td>Microsoft Azure Data Scientist Associate (DP-1...</td>\n",
       "      <td>Microsoft</td>\n",
       "      <td>Intermediate</td>\n",
       "      <td>4.5</td>\n",
       "      <td>This Professional Certificate is intended for ...</td>\n",
       "      <td>Manage Azure resources for machine learning De...</td>\n",
       "    </tr>\n",
       "    <tr>\n",
       "      <th>1</th>\n",
       "      <td>Machine Learning Specialization</td>\n",
       "      <td>Stanford University</td>\n",
       "      <td>Beginner</td>\n",
       "      <td>4.9</td>\n",
       "      <td>The Machine Learning Specialization is a found...</td>\n",
       "      <td>Decision Trees Artificial Neural Network Logis...</td>\n",
       "    </tr>\n",
       "    <tr>\n",
       "      <th>2</th>\n",
       "      <td>Machine Learning Engineering for Production (M...</td>\n",
       "      <td>DeepLearning.AI</td>\n",
       "      <td>Advanced</td>\n",
       "      <td>4.7</td>\n",
       "      <td>Understanding machine learning and deep learni...</td>\n",
       "      <td>Managing Machine Learning Production Systems D...</td>\n",
       "    </tr>\n",
       "    <tr>\n",
       "      <th>3</th>\n",
       "      <td>Fundamentals of Machine Learning for Healthcare</td>\n",
       "      <td>Stanford University</td>\n",
       "      <td>Beginner</td>\n",
       "      <td>4.8</td>\n",
       "      <td>Machine learning and artificial intelligence h...</td>\n",
       "      <td>Machine learning Biostatistics Traditional com...</td>\n",
       "    </tr>\n",
       "    <tr>\n",
       "      <th>4</th>\n",
       "      <td>IBM Machine Learning Professional Certificate</td>\n",
       "      <td>IBM</td>\n",
       "      <td>Intermediate</td>\n",
       "      <td>4.6</td>\n",
       "      <td>Machine Learning is one of the most in-demand ...</td>\n",
       "      <td>Artificial Intelligence (AI) Machine Learning ...</td>\n",
       "    </tr>\n",
       "  </tbody>\n",
       "</table>\n",
       "</div>"
      ],
      "text/plain": [
       "                                              tittle             Offer by  \\\n",
       "0  Microsoft Azure Data Scientist Associate (DP-1...            Microsoft   \n",
       "1                    Machine Learning Specialization  Stanford University   \n",
       "2  Machine Learning Engineering for Production (M...      DeepLearning.AI   \n",
       "3    Fundamentals of Machine Learning for Healthcare  Stanford University   \n",
       "4      IBM Machine Learning Professional Certificate                  IBM   \n",
       "\n",
       "          Level Rating                                        Description  \\\n",
       "0  Intermediate    4.5  This Professional Certificate is intended for ...   \n",
       "1      Beginner    4.9  The Machine Learning Specialization is a found...   \n",
       "2      Advanced    4.7  Understanding machine learning and deep learni...   \n",
       "3      Beginner    4.8  Machine learning and artificial intelligence h...   \n",
       "4  Intermediate    4.6  Machine Learning is one of the most in-demand ...   \n",
       "\n",
       "                                              Skills  \n",
       "0  Manage Azure resources for machine learning De...  \n",
       "1  Decision Trees Artificial Neural Network Logis...  \n",
       "2  Managing Machine Learning Production Systems D...  \n",
       "3  Machine learning Biostatistics Traditional com...  \n",
       "4  Artificial Intelligence (AI) Machine Learning ...  "
      ]
     },
     "execution_count": 8,
     "metadata": {},
     "output_type": "execute_result"
    }
   ],
   "source": [
    "df.drop('URL',inplace=True,axis=1)\n",
    "df.head()"
   ]
  },
  {
   "cell_type": "code",
   "execution_count": 19,
   "id": "02c4c035",
   "metadata": {
    "execution": {
     "iopub.execute_input": "2022-05-30T16:02:58.205586Z",
     "iopub.status.busy": "2022-05-30T16:02:58.204885Z",
     "iopub.status.idle": "2022-05-30T16:02:59.280123Z",
     "shell.execute_reply": "2022-05-30T16:02:59.279431Z"
    },
    "papermill": {
     "duration": 1.083834,
     "end_time": "2022-05-30T16:02:59.282342",
     "exception": false,
     "start_time": "2022-05-30T16:02:58.198508",
     "status": "completed"
    },
    "tags": []
   },
   "outputs": [],
   "source": [
    "import matplotlib.pyplot as plt\n",
    "import seaborn as sns"
   ]
  },
  {
   "cell_type": "code",
   "execution_count": 20,
   "id": "4e10417c",
   "metadata": {
    "execution": {
     "iopub.execute_input": "2022-05-30T16:02:59.293876Z",
     "iopub.status.busy": "2022-05-30T16:02:59.293492Z",
     "iopub.status.idle": "2022-05-30T16:02:59.302580Z",
     "shell.execute_reply": "2022-05-30T16:02:59.301729Z"
    },
    "papermill": {
     "duration": 0.01709,
     "end_time": "2022-05-30T16:02:59.304377",
     "exception": false,
     "start_time": "2022-05-30T16:02:59.287287",
     "status": "completed"
    },
    "tags": []
   },
   "outputs": [
    {
     "data": {
      "text/plain": [
       "array(['4.5', '4.9', '4.7', '4.8', '4.6', 'Not available', '4.4', '4.2',\n",
       "       '4.3', '4.1', '3.3', '4', '3.4', '5', '3.5', '3.7', '3', '3.6',\n",
       "       '3.8', '3.9', '2.9', '2.6', '2.8', '2', '3.1', '3.2', '2.5', '2.4',\n",
       "       '1', '1.9', '2.3'], dtype=object)"
      ]
     },
     "execution_count": 20,
     "metadata": {},
     "output_type": "execute_result"
    }
   ],
   "source": [
    "df['Rating'].unique()"
   ]
  },
  {
   "cell_type": "code",
   "execution_count": 11,
   "id": "5e950959",
   "metadata": {
    "execution": {
     "iopub.execute_input": "2022-05-30T16:02:59.316127Z",
     "iopub.status.busy": "2022-05-30T16:02:59.315515Z",
     "iopub.status.idle": "2022-05-30T16:02:59.335152Z",
     "shell.execute_reply": "2022-05-30T16:02:59.334099Z"
    },
    "papermill": {
     "duration": 0.027455,
     "end_time": "2022-05-30T16:02:59.336945",
     "exception": false,
     "start_time": "2022-05-30T16:02:59.309490",
     "status": "completed"
    },
    "tags": []
   },
   "outputs": [
    {
     "data": {
      "text/html": [
       "<div>\n",
       "<style scoped>\n",
       "    .dataframe tbody tr th:only-of-type {\n",
       "        vertical-align: middle;\n",
       "    }\n",
       "\n",
       "    .dataframe tbody tr th {\n",
       "        vertical-align: top;\n",
       "    }\n",
       "\n",
       "    .dataframe thead th {\n",
       "        text-align: right;\n",
       "    }\n",
       "</style>\n",
       "<table border=\"1\" class=\"dataframe\">\n",
       "  <thead>\n",
       "    <tr style=\"text-align: right;\">\n",
       "      <th></th>\n",
       "      <th>tittle</th>\n",
       "      <th>Offer by</th>\n",
       "      <th>Level</th>\n",
       "      <th>Rating</th>\n",
       "      <th>Description</th>\n",
       "      <th>Skills</th>\n",
       "    </tr>\n",
       "  </thead>\n",
       "  <tbody>\n",
       "    <tr>\n",
       "      <th>0</th>\n",
       "      <td>Microsoft Azure Data Scientist Associate (DP-1...</td>\n",
       "      <td>Microsoft</td>\n",
       "      <td>Intermediate</td>\n",
       "      <td>4.5</td>\n",
       "      <td>This Professional Certificate is intended for ...</td>\n",
       "      <td>Manage Azure resources for machine learning De...</td>\n",
       "    </tr>\n",
       "    <tr>\n",
       "      <th>1</th>\n",
       "      <td>Machine Learning Specialization</td>\n",
       "      <td>Stanford University</td>\n",
       "      <td>Beginner</td>\n",
       "      <td>4.9</td>\n",
       "      <td>The Machine Learning Specialization is a found...</td>\n",
       "      <td>Decision Trees Artificial Neural Network Logis...</td>\n",
       "    </tr>\n",
       "    <tr>\n",
       "      <th>2</th>\n",
       "      <td>Machine Learning Engineering for Production (M...</td>\n",
       "      <td>DeepLearning.AI</td>\n",
       "      <td>Advanced</td>\n",
       "      <td>4.7</td>\n",
       "      <td>Understanding machine learning and deep learni...</td>\n",
       "      <td>Managing Machine Learning Production Systems D...</td>\n",
       "    </tr>\n",
       "    <tr>\n",
       "      <th>3</th>\n",
       "      <td>Fundamentals of Machine Learning for Healthcare</td>\n",
       "      <td>Stanford University</td>\n",
       "      <td>Beginner</td>\n",
       "      <td>4.8</td>\n",
       "      <td>Machine learning and artificial intelligence h...</td>\n",
       "      <td>Machine learning Biostatistics Traditional com...</td>\n",
       "    </tr>\n",
       "    <tr>\n",
       "      <th>4</th>\n",
       "      <td>IBM Machine Learning Professional Certificate</td>\n",
       "      <td>IBM</td>\n",
       "      <td>Intermediate</td>\n",
       "      <td>4.6</td>\n",
       "      <td>Machine Learning is one of the most in-demand ...</td>\n",
       "      <td>Artificial Intelligence (AI) Machine Learning ...</td>\n",
       "    </tr>\n",
       "    <tr>\n",
       "      <th>...</th>\n",
       "      <td>...</td>\n",
       "      <td>...</td>\n",
       "      <td>...</td>\n",
       "      <td>...</td>\n",
       "      <td>...</td>\n",
       "      <td>...</td>\n",
       "    </tr>\n",
       "    <tr>\n",
       "      <th>3605</th>\n",
       "      <td>Capstone: Retrieving, Processing, and Visualiz...</td>\n",
       "      <td>University of Michigan</td>\n",
       "      <td>Beginner</td>\n",
       "      <td>4.6</td>\n",
       "      <td>In the capstone, students will build a series ...</td>\n",
       "      <td>Databases  syntax  analysis  web  Data Visuali...</td>\n",
       "    </tr>\n",
       "    <tr>\n",
       "      <th>3606</th>\n",
       "      <td>Patrick Henry: Forgotten Founder</td>\n",
       "      <td>University of Virginia</td>\n",
       "      <td>Intermediate</td>\n",
       "      <td>4.9</td>\n",
       "      <td>�Give me liberty, or give me death:� Rememberi...</td>\n",
       "      <td>retirement  Causality  career  history of the ...</td>\n",
       "    </tr>\n",
       "    <tr>\n",
       "      <th>3607</th>\n",
       "      <td>Business intelligence and data analytics: Gene...</td>\n",
       "      <td>Macquarie University</td>\n",
       "      <td>Advanced</td>\n",
       "      <td>4.6</td>\n",
       "      <td>�Megatrends� heavily influence today�s organis...</td>\n",
       "      <td>analytics  tableau software  Business Intellig...</td>\n",
       "    </tr>\n",
       "    <tr>\n",
       "      <th>3608</th>\n",
       "      <td>Rigid Body Dynamics</td>\n",
       "      <td>Korea Advanced Institute of Science and Techno...</td>\n",
       "      <td>Beginner</td>\n",
       "      <td>4.6</td>\n",
       "      <td>This course teaches dynamics, one of the basic...</td>\n",
       "      <td>Angular  Mechanical Design  fluid mechanics  F...</td>\n",
       "    </tr>\n",
       "    <tr>\n",
       "      <th>3609</th>\n",
       "      <td>Architecting with Google Kubernetes Engine: Pr...</td>\n",
       "      <td>Google Cloud</td>\n",
       "      <td>Intermediate</td>\n",
       "      <td>4.7</td>\n",
       "      <td>In this course, \"Architecting with Google Kube...</td>\n",
       "      <td>bigtable  bigquery  SQL  Google Cloud Platform...</td>\n",
       "    </tr>\n",
       "  </tbody>\n",
       "</table>\n",
       "<p>3518 rows × 6 columns</p>\n",
       "</div>"
      ],
      "text/plain": [
       "                                                 tittle  \\\n",
       "0     Microsoft Azure Data Scientist Associate (DP-1...   \n",
       "1                       Machine Learning Specialization   \n",
       "2     Machine Learning Engineering for Production (M...   \n",
       "3       Fundamentals of Machine Learning for Healthcare   \n",
       "4         IBM Machine Learning Professional Certificate   \n",
       "...                                                 ...   \n",
       "3605  Capstone: Retrieving, Processing, and Visualiz...   \n",
       "3606                   Patrick Henry: Forgotten Founder   \n",
       "3607  Business intelligence and data analytics: Gene...   \n",
       "3608                                Rigid Body Dynamics   \n",
       "3609  Architecting with Google Kubernetes Engine: Pr...   \n",
       "\n",
       "                                               Offer by         Level  Rating  \\\n",
       "0                                             Microsoft  Intermediate     4.5   \n",
       "1                                   Stanford University      Beginner     4.9   \n",
       "2                                       DeepLearning.AI      Advanced     4.7   \n",
       "3                                   Stanford University      Beginner     4.8   \n",
       "4                                                   IBM  Intermediate     4.6   \n",
       "...                                                 ...           ...     ...   \n",
       "3605                             University of Michigan      Beginner     4.6   \n",
       "3606                             University of Virginia  Intermediate     4.9   \n",
       "3607                               Macquarie University      Advanced     4.6   \n",
       "3608  Korea Advanced Institute of Science and Techno...      Beginner     4.6   \n",
       "3609                                       Google Cloud  Intermediate     4.7   \n",
       "\n",
       "                                            Description  \\\n",
       "0     This Professional Certificate is intended for ...   \n",
       "1     The Machine Learning Specialization is a found...   \n",
       "2     Understanding machine learning and deep learni...   \n",
       "3     Machine learning and artificial intelligence h...   \n",
       "4     Machine Learning is one of the most in-demand ...   \n",
       "...                                                 ...   \n",
       "3605  In the capstone, students will build a series ...   \n",
       "3606  �Give me liberty, or give me death:� Rememberi...   \n",
       "3607  �Megatrends� heavily influence today�s organis...   \n",
       "3608  This course teaches dynamics, one of the basic...   \n",
       "3609  In this course, \"Architecting with Google Kube...   \n",
       "\n",
       "                                                 Skills  \n",
       "0     Manage Azure resources for machine learning De...  \n",
       "1     Decision Trees Artificial Neural Network Logis...  \n",
       "2     Managing Machine Learning Production Systems D...  \n",
       "3     Machine learning Biostatistics Traditional com...  \n",
       "4     Artificial Intelligence (AI) Machine Learning ...  \n",
       "...                                                 ...  \n",
       "3605  Databases  syntax  analysis  web  Data Visuali...  \n",
       "3606  retirement  Causality  career  history of the ...  \n",
       "3607  analytics  tableau software  Business Intellig...  \n",
       "3608  Angular  Mechanical Design  fluid mechanics  F...  \n",
       "3609  bigtable  bigquery  SQL  Google Cloud Platform...  \n",
       "\n",
       "[3518 rows x 6 columns]"
      ]
     },
     "execution_count": 11,
     "metadata": {},
     "output_type": "execute_result"
    }
   ],
   "source": [
    "df = df[df['Rating'] != 'Not available']\n",
    "df['Rating'] = df['Rating'].astype(float)\n",
    "df"
   ]
  },
  {
   "cell_type": "code",
   "execution_count": 21,
   "id": "cc6d55b1",
   "metadata": {
    "execution": {
     "iopub.execute_input": "2022-05-30T16:02:59.349485Z",
     "iopub.status.busy": "2022-05-30T16:02:59.349140Z",
     "iopub.status.idle": "2022-05-30T16:02:59.366745Z",
     "shell.execute_reply": "2022-05-30T16:02:59.365444Z"
    },
    "papermill": {
     "duration": 0.026511,
     "end_time": "2022-05-30T16:02:59.368745",
     "exception": false,
     "start_time": "2022-05-30T16:02:59.342234",
     "status": "completed"
    },
    "tags": []
   },
   "outputs": [
    {
     "name": "stdout",
     "output_type": "stream",
     "text": [
      "<class 'pandas.core.frame.DataFrame'>\n",
      "RangeIndex: 3610 entries, 0 to 3609\n",
      "Data columns (total 7 columns):\n",
      " #   Column       Non-Null Count  Dtype \n",
      "---  ------       --------------  ----- \n",
      " 0   tittle       3610 non-null   object\n",
      " 1   Offer by     3610 non-null   object\n",
      " 2   Level        3610 non-null   object\n",
      " 3   Rating       3610 non-null   object\n",
      " 4   URL          3610 non-null   object\n",
      " 5   Description  3610 non-null   object\n",
      " 6   Skills       3610 non-null   object\n",
      "dtypes: object(7)\n",
      "memory usage: 197.5+ KB\n"
     ]
    }
   ],
   "source": [
    "df.info()"
   ]
  },
  {
   "cell_type": "code",
   "execution_count": 22,
   "id": "0f31faec",
   "metadata": {
    "execution": {
     "iopub.execute_input": "2022-05-30T16:02:59.381553Z",
     "iopub.status.busy": "2022-05-30T16:02:59.380531Z",
     "iopub.status.idle": "2022-05-30T16:02:59.686642Z",
     "shell.execute_reply": "2022-05-30T16:02:59.685708Z"
    },
    "papermill": {
     "duration": 0.314481,
     "end_time": "2022-05-30T16:02:59.688696",
     "exception": false,
     "start_time": "2022-05-30T16:02:59.374215",
     "status": "completed"
    },
    "tags": []
   },
   "outputs": [
    {
     "name": "stderr",
     "output_type": "stream",
     "text": [
      "C:\\ProgramData\\Anaconda3\\lib\\site-packages\\seaborn\\distributions.py:2619: FutureWarning: `distplot` is a deprecated function and will be removed in a future version. Please adapt your code to use either `displot` (a figure-level function with similar flexibility) or `histplot` (an axes-level function for histograms).\n",
      "  warnings.warn(msg, FutureWarning)\n"
     ]
    },
    {
     "ename": "ValueError",
     "evalue": "could not convert string to float: 'Not available'",
     "output_type": "error",
     "traceback": [
      "\u001b[1;31m---------------------------------------------------------------------------\u001b[0m",
      "\u001b[1;31mValueError\u001b[0m                                Traceback (most recent call last)",
      "\u001b[1;32m~\\AppData\\Local\\Temp/ipykernel_9280/930438970.py\u001b[0m in \u001b[0;36m<module>\u001b[1;34m\u001b[0m\n\u001b[1;32m----> 1\u001b[1;33m \u001b[0msns\u001b[0m\u001b[1;33m.\u001b[0m\u001b[0mdistplot\u001b[0m\u001b[1;33m(\u001b[0m\u001b[0mdf\u001b[0m\u001b[1;33m[\u001b[0m\u001b[1;34m'Rating'\u001b[0m\u001b[1;33m]\u001b[0m\u001b[1;33m)\u001b[0m\u001b[1;33m\u001b[0m\u001b[1;33m\u001b[0m\u001b[0m\n\u001b[0m\u001b[0;32m      2\u001b[0m \u001b[0mplt\u001b[0m\u001b[1;33m.\u001b[0m\u001b[0mshow\u001b[0m\u001b[1;33m(\u001b[0m\u001b[1;33m)\u001b[0m\u001b[1;33m\u001b[0m\u001b[1;33m\u001b[0m\u001b[0m\n",
      "\u001b[1;32mC:\\ProgramData\\Anaconda3\\lib\\site-packages\\seaborn\\distributions.py\u001b[0m in \u001b[0;36mdistplot\u001b[1;34m(a, bins, hist, kde, rug, fit, hist_kws, kde_kws, rug_kws, fit_kws, color, vertical, norm_hist, axlabel, label, ax, x)\u001b[0m\n\u001b[0;32m   2634\u001b[0m \u001b[1;33m\u001b[0m\u001b[0m\n\u001b[0;32m   2635\u001b[0m     \u001b[1;31m# Make a a 1-d float array\u001b[0m\u001b[1;33m\u001b[0m\u001b[1;33m\u001b[0m\u001b[0m\n\u001b[1;32m-> 2636\u001b[1;33m     \u001b[0ma\u001b[0m \u001b[1;33m=\u001b[0m \u001b[0mnp\u001b[0m\u001b[1;33m.\u001b[0m\u001b[0masarray\u001b[0m\u001b[1;33m(\u001b[0m\u001b[0ma\u001b[0m\u001b[1;33m,\u001b[0m \u001b[0mfloat\u001b[0m\u001b[1;33m)\u001b[0m\u001b[1;33m\u001b[0m\u001b[1;33m\u001b[0m\u001b[0m\n\u001b[0m\u001b[0;32m   2637\u001b[0m     \u001b[1;32mif\u001b[0m \u001b[0ma\u001b[0m\u001b[1;33m.\u001b[0m\u001b[0mndim\u001b[0m \u001b[1;33m>\u001b[0m \u001b[1;36m1\u001b[0m\u001b[1;33m:\u001b[0m\u001b[1;33m\u001b[0m\u001b[1;33m\u001b[0m\u001b[0m\n\u001b[0;32m   2638\u001b[0m         \u001b[0ma\u001b[0m \u001b[1;33m=\u001b[0m \u001b[0ma\u001b[0m\u001b[1;33m.\u001b[0m\u001b[0msqueeze\u001b[0m\u001b[1;33m(\u001b[0m\u001b[1;33m)\u001b[0m\u001b[1;33m\u001b[0m\u001b[1;33m\u001b[0m\u001b[0m\n",
      "\u001b[1;32mC:\\ProgramData\\Anaconda3\\lib\\site-packages\\numpy\\core\\_asarray.py\u001b[0m in \u001b[0;36masarray\u001b[1;34m(a, dtype, order, like)\u001b[0m\n\u001b[0;32m    100\u001b[0m         \u001b[1;32mreturn\u001b[0m \u001b[0m_asarray_with_like\u001b[0m\u001b[1;33m(\u001b[0m\u001b[0ma\u001b[0m\u001b[1;33m,\u001b[0m \u001b[0mdtype\u001b[0m\u001b[1;33m=\u001b[0m\u001b[0mdtype\u001b[0m\u001b[1;33m,\u001b[0m \u001b[0morder\u001b[0m\u001b[1;33m=\u001b[0m\u001b[0morder\u001b[0m\u001b[1;33m,\u001b[0m \u001b[0mlike\u001b[0m\u001b[1;33m=\u001b[0m\u001b[0mlike\u001b[0m\u001b[1;33m)\u001b[0m\u001b[1;33m\u001b[0m\u001b[1;33m\u001b[0m\u001b[0m\n\u001b[0;32m    101\u001b[0m \u001b[1;33m\u001b[0m\u001b[0m\n\u001b[1;32m--> 102\u001b[1;33m     \u001b[1;32mreturn\u001b[0m \u001b[0marray\u001b[0m\u001b[1;33m(\u001b[0m\u001b[0ma\u001b[0m\u001b[1;33m,\u001b[0m \u001b[0mdtype\u001b[0m\u001b[1;33m,\u001b[0m \u001b[0mcopy\u001b[0m\u001b[1;33m=\u001b[0m\u001b[1;32mFalse\u001b[0m\u001b[1;33m,\u001b[0m \u001b[0morder\u001b[0m\u001b[1;33m=\u001b[0m\u001b[0morder\u001b[0m\u001b[1;33m)\u001b[0m\u001b[1;33m\u001b[0m\u001b[1;33m\u001b[0m\u001b[0m\n\u001b[0m\u001b[0;32m    103\u001b[0m \u001b[1;33m\u001b[0m\u001b[0m\n\u001b[0;32m    104\u001b[0m \u001b[1;33m\u001b[0m\u001b[0m\n",
      "\u001b[1;32mC:\\ProgramData\\Anaconda3\\lib\\site-packages\\pandas\\core\\series.py\u001b[0m in \u001b[0;36m__array__\u001b[1;34m(self, dtype)\u001b[0m\n\u001b[0;32m    855\u001b[0m               dtype='datetime64[ns]')\n\u001b[0;32m    856\u001b[0m         \"\"\"\n\u001b[1;32m--> 857\u001b[1;33m         \u001b[1;32mreturn\u001b[0m \u001b[0mnp\u001b[0m\u001b[1;33m.\u001b[0m\u001b[0masarray\u001b[0m\u001b[1;33m(\u001b[0m\u001b[0mself\u001b[0m\u001b[1;33m.\u001b[0m\u001b[0m_values\u001b[0m\u001b[1;33m,\u001b[0m \u001b[0mdtype\u001b[0m\u001b[1;33m)\u001b[0m\u001b[1;33m\u001b[0m\u001b[1;33m\u001b[0m\u001b[0m\n\u001b[0m\u001b[0;32m    858\u001b[0m \u001b[1;33m\u001b[0m\u001b[0m\n\u001b[0;32m    859\u001b[0m     \u001b[1;31m# ----------------------------------------------------------------------\u001b[0m\u001b[1;33m\u001b[0m\u001b[1;33m\u001b[0m\u001b[0m\n",
      "\u001b[1;32mC:\\ProgramData\\Anaconda3\\lib\\site-packages\\numpy\\core\\_asarray.py\u001b[0m in \u001b[0;36masarray\u001b[1;34m(a, dtype, order, like)\u001b[0m\n\u001b[0;32m    100\u001b[0m         \u001b[1;32mreturn\u001b[0m \u001b[0m_asarray_with_like\u001b[0m\u001b[1;33m(\u001b[0m\u001b[0ma\u001b[0m\u001b[1;33m,\u001b[0m \u001b[0mdtype\u001b[0m\u001b[1;33m=\u001b[0m\u001b[0mdtype\u001b[0m\u001b[1;33m,\u001b[0m \u001b[0morder\u001b[0m\u001b[1;33m=\u001b[0m\u001b[0morder\u001b[0m\u001b[1;33m,\u001b[0m \u001b[0mlike\u001b[0m\u001b[1;33m=\u001b[0m\u001b[0mlike\u001b[0m\u001b[1;33m)\u001b[0m\u001b[1;33m\u001b[0m\u001b[1;33m\u001b[0m\u001b[0m\n\u001b[0;32m    101\u001b[0m \u001b[1;33m\u001b[0m\u001b[0m\n\u001b[1;32m--> 102\u001b[1;33m     \u001b[1;32mreturn\u001b[0m \u001b[0marray\u001b[0m\u001b[1;33m(\u001b[0m\u001b[0ma\u001b[0m\u001b[1;33m,\u001b[0m \u001b[0mdtype\u001b[0m\u001b[1;33m,\u001b[0m \u001b[0mcopy\u001b[0m\u001b[1;33m=\u001b[0m\u001b[1;32mFalse\u001b[0m\u001b[1;33m,\u001b[0m \u001b[0morder\u001b[0m\u001b[1;33m=\u001b[0m\u001b[0morder\u001b[0m\u001b[1;33m)\u001b[0m\u001b[1;33m\u001b[0m\u001b[1;33m\u001b[0m\u001b[0m\n\u001b[0m\u001b[0;32m    103\u001b[0m \u001b[1;33m\u001b[0m\u001b[0m\n\u001b[0;32m    104\u001b[0m \u001b[1;33m\u001b[0m\u001b[0m\n",
      "\u001b[1;31mValueError\u001b[0m: could not convert string to float: 'Not available'"
     ]
    },
    {
     "data": {
      "image/png": "[encoded data removed]",
      "text/plain": [
       "<Figure size 432x288 with 1 Axes>"
      ]
     },
     "metadata": {
      "needs_background": "light"
     },
     "output_type": "display_data"
    }
   ],
   "source": [
    "sns.distplot(df['Rating'])\n",
    "plt.show()"
   ]
  },
  {
   "cell_type": "code",
   "execution_count": 14,
   "id": "cd98d941",
   "metadata": {},
   "outputs": [
    {
     "data": {
      "image/png": "[encoded data removed]",
      "text/plain": [
       "<Figure size 432x288 with 1 Axes>"
      ]
     },
     "metadata": {
      "needs_background": "light"
     },
     "output_type": "display_data"
    }
   ],
   "source": [
    "plt.figure()\n",
    "sns.countplot(data=df,x='Rating',palette='plasma')\n",
    "plt.xlabel('Ratings',fontsize='14')\n",
    "plt.ylabel('Number of courses',fontsize='16')\n",
    "plt.xticks(fontsize='14')\n",
    "plt.yticks(fontsize='14')\n",
    "plt.title(\"Count of course\\n\",fontsize=16,fontweight='bold')\n",
    "plt.xticks(rotation = 45)\n",
    "plt.grid()"
   ]
  },
  {
   "cell_type": "code",
   "execution_count": 15,
   "id": "1c2d2eda",
   "metadata": {},
   "outputs": [
    {
     "data": {
      "text/plain": [
       "4.7    761\n",
       "4.6    643\n",
       "4.8    610\n",
       "4.5    403\n",
       "4.4    246\n",
       "4.9    185\n",
       "4.3    166\n",
       "4.2    122\n",
       "5.0     90\n",
       "4.1     85\n",
       "4.0     51\n",
       "3.8     24\n",
       "3.9     20\n",
       "3.7     18\n",
       "3.6     18\n",
       "3.5     17\n",
       "3.4     13\n",
       "3.0     12\n",
       "3.2      9\n",
       "3.3      6\n",
       "2.9      6\n",
       "2.6      2\n",
       "2.8      2\n",
       "2.4      2\n",
       "1.0      2\n",
       "2.0      1\n",
       "3.1      1\n",
       "2.5      1\n",
       "1.9      1\n",
       "2.3      1\n",
       "Name: Rating, dtype: int64"
      ]
     },
     "execution_count": 15,
     "metadata": {},
     "output_type": "execute_result"
    }
   ],
   "source": [
    "df['Rating'].value_counts()"
   ]
  },
  {
   "cell_type": "code",
   "execution_count": 16,
   "id": "d5bb495c",
   "metadata": {},
   "outputs": [
    {
     "data": {
      "image/png": "[encoded data removed]",
      "text/plain": [
       "<Figure size 432x288 with 1 Axes>"
      ]
     },
     "metadata": {
      "needs_background": "light"
     },
     "output_type": "display_data"
    }
   ],
   "source": [
    "plt.figure()\n",
    "sns.countplot(data=df,x='Level',palette='plasma')\n",
    "plt.xlabel('Level',fontsize='14')\n",
    "plt.ylabel('Number of courses',fontsize='16')\n",
    "plt.xticks(fontsize='14')\n",
    "plt.yticks(fontsize='14')\n",
    "plt.title(\"Count of course by level\\n\",fontsize=16,fontweight='bold')\n",
    "plt.grid()"
   ]
  },
  {
   "cell_type": "code",
   "execution_count": 17,
   "id": "221a6521",
   "metadata": {},
   "outputs": [
    {
     "data": {
      "text/plain": [
       "Beginner         1462\n",
       "Advanced          980\n",
       "Intermediate      853\n",
       "Conversant        175\n",
       "Not available      48\n",
       "Name: Level, dtype: int64"
      ]
     },
     "execution_count": 17,
     "metadata": {},
     "output_type": "execute_result"
    }
   ],
   "source": [
    "df['Level'].value_counts()"
   ]
  },
  {
   "cell_type": "code",
   "execution_count": 122,
   "id": "0ae2d4cb",
   "metadata": {
    "execution": {
     "iopub.execute_input": "2022-05-30T16:02:59.701968Z",
     "iopub.status.busy": "2022-05-30T16:02:59.701583Z",
     "iopub.status.idle": "2022-05-30T16:02:59.752274Z",
     "shell.execute_reply": "2022-05-30T16:02:59.751286Z"
    },
    "papermill": {
     "duration": 0.059883,
     "end_time": "2022-05-30T16:02:59.754518",
     "exception": false,
     "start_time": "2022-05-30T16:02:59.694635",
     "status": "completed"
    },
    "tags": []
   },
   "outputs": [],
   "source": [
    "df['Title']=df['Title'].apply(lambda x:x.replace(':',' '))\n",
    "df['Title']=df['Title'].apply(lambda x:x.replace(',',' '))\n",
    "df['Title']=df['Title'].apply(lambda x:x.replace('-',' '))\n",
    "\n",
    "df['Description']=df['Description'].apply(lambda x:x.replace('-',' '))\n",
    "df['Description']=df['Description'].apply(lambda x:x.replace('.',' '))\n",
    "df['Description']=df['Description'].apply(lambda x:x.replace(':',' '))\n",
    "df['Description']=df['Description'].apply(lambda x:x.replace(',',' '))\n",
    "\n",
    "df['Skills']=df['Skills'].apply(lambda x:x.replace('-',' '))\n",
    "df['Skills']=df['Skills'].apply(lambda x:x.replace('.',' '))\n",
    "df['Skills']=df['Skills'].apply(lambda x:x.replace(':',' '))\n",
    "df['Skills']=df['Skills'].apply(lambda x:x.replace(',',' '))\n",
    "df['Skills']=df['Skills'].apply(lambda x:x.replace('(',' '))\n",
    "df['Skills']=df['Skills'].apply(lambda x:x.replace(')',' '))"
   ]
  },
  {
   "cell_type": "code",
   "execution_count": 123,
   "id": "6408b59e",
   "metadata": {
    "execution": {
     "iopub.execute_input": "2022-05-30T16:02:59.767793Z",
     "iopub.status.busy": "2022-05-30T16:02:59.767387Z",
     "iopub.status.idle": "2022-05-30T16:02:59.779630Z",
     "shell.execute_reply": "2022-05-30T16:02:59.778927Z"
    },
    "papermill": {
     "duration": 0.020909,
     "end_time": "2022-05-30T16:02:59.781221",
     "exception": false,
     "start_time": "2022-05-30T16:02:59.760312",
     "status": "completed"
    },
    "tags": []
   },
   "outputs": [
    {
     "data": {
      "text/html": [
       "<div>\n",
       "<style scoped>\n",
       "    .dataframe tbody tr th:only-of-type {\n",
       "        vertical-align: middle;\n",
       "    }\n",
       "\n",
       "    .dataframe tbody tr th {\n",
       "        vertical-align: top;\n",
       "    }\n",
       "\n",
       "    .dataframe thead th {\n",
       "        text-align: right;\n",
       "    }\n",
       "</style>\n",
       "<table border=\"1\" class=\"dataframe\">\n",
       "  <thead>\n",
       "    <tr style=\"text-align: right;\">\n",
       "      <th></th>\n",
       "      <th>Title</th>\n",
       "      <th>Offered by</th>\n",
       "      <th>Level</th>\n",
       "      <th>Rating</th>\n",
       "      <th>Description</th>\n",
       "      <th>Skills</th>\n",
       "    </tr>\n",
       "  </thead>\n",
       "  <tbody>\n",
       "    <tr>\n",
       "      <th>0</th>\n",
       "      <td>Microsoft Azure Data Scientist Associate (DP 1...</td>\n",
       "      <td>Microsoft</td>\n",
       "      <td>Intermediate</td>\n",
       "      <td>4.5</td>\n",
       "      <td>This Professional Certificate is intended for ...</td>\n",
       "      <td>Manage Azure resources for machine learning De...</td>\n",
       "    </tr>\n",
       "    <tr>\n",
       "      <th>1</th>\n",
       "      <td>Machine Learning Specialization</td>\n",
       "      <td>Stanford University</td>\n",
       "      <td>Beginner</td>\n",
       "      <td>4.9</td>\n",
       "      <td>The Machine Learning Specialization is a found...</td>\n",
       "      <td>Decision Trees Artificial Neural Network Logis...</td>\n",
       "    </tr>\n",
       "    <tr>\n",
       "      <th>2</th>\n",
       "      <td>Machine Learning Engineering for Production (M...</td>\n",
       "      <td>DeepLearning.AI</td>\n",
       "      <td>Advanced</td>\n",
       "      <td>4.7</td>\n",
       "      <td>Understanding machine learning and deep learni...</td>\n",
       "      <td>Managing Machine Learning Production Systems D...</td>\n",
       "    </tr>\n",
       "    <tr>\n",
       "      <th>3</th>\n",
       "      <td>Fundamentals of Machine Learning for Healthcare</td>\n",
       "      <td>Stanford University</td>\n",
       "      <td>Beginner</td>\n",
       "      <td>4.8</td>\n",
       "      <td>Machine learning and artificial intelligence h...</td>\n",
       "      <td>Machine learning Biostatistics Traditional com...</td>\n",
       "    </tr>\n",
       "    <tr>\n",
       "      <th>4</th>\n",
       "      <td>IBM Machine Learning Professional Certificate</td>\n",
       "      <td>IBM</td>\n",
       "      <td>Intermediate</td>\n",
       "      <td>4.6</td>\n",
       "      <td>Machine Learning is one of the most in demand ...</td>\n",
       "      <td>Artificial Intelligence  AI  Machine Learning ...</td>\n",
       "    </tr>\n",
       "  </tbody>\n",
       "</table>\n",
       "</div>"
      ],
      "text/plain": [
       "                                               Title           Offered by  \\\n",
       "0  Microsoft Azure Data Scientist Associate (DP 1...            Microsoft   \n",
       "1                    Machine Learning Specialization  Stanford University   \n",
       "2  Machine Learning Engineering for Production (M...      DeepLearning.AI   \n",
       "3    Fundamentals of Machine Learning for Healthcare  Stanford University   \n",
       "4      IBM Machine Learning Professional Certificate                  IBM   \n",
       "\n",
       "          Level  Rating                                        Description  \\\n",
       "0  Intermediate     4.5  This Professional Certificate is intended for ...   \n",
       "1      Beginner     4.9  The Machine Learning Specialization is a found...   \n",
       "2      Advanced     4.7  Understanding machine learning and deep learni...   \n",
       "3      Beginner     4.8  Machine learning and artificial intelligence h...   \n",
       "4  Intermediate     4.6  Machine Learning is one of the most in demand ...   \n",
       "\n",
       "                                              Skills  \n",
       "0  Manage Azure resources for machine learning De...  \n",
       "1  Decision Trees Artificial Neural Network Logis...  \n",
       "2  Managing Machine Learning Production Systems D...  \n",
       "3  Machine learning Biostatistics Traditional com...  \n",
       "4  Artificial Intelligence  AI  Machine Learning ...  "
      ]
     },
     "execution_count": 123,
     "metadata": {},
     "output_type": "execute_result"
    }
   ],
   "source": [
    "df.head()"
   ]
  },
  {
   "cell_type": "code",
   "execution_count": 124,
   "id": "3d843354",
   "metadata": {
    "execution": {
     "iopub.execute_input": "2022-05-30T16:02:59.795012Z",
     "iopub.status.busy": "2022-05-30T16:02:59.794308Z",
     "iopub.status.idle": "2022-05-30T16:02:59.817848Z",
     "shell.execute_reply": "2022-05-30T16:02:59.816789Z"
    },
    "papermill": {
     "duration": 0.032621,
     "end_time": "2022-05-30T16:02:59.819871",
     "exception": false,
     "start_time": "2022-05-30T16:02:59.787250",
     "status": "completed"
    },
    "tags": []
   },
   "outputs": [
    {
     "data": {
      "text/plain": [
       "0     Microsoft Azure Data Scientist Associate (DP 1...\n",
       "1     Machine Learning Specialization The Machine Le...\n",
       "2     Machine Learning Engineering for Production (M...\n",
       "3     Fundamentals of Machine Learning for Healthcar...\n",
       "4     IBM Machine Learning Professional Certificate ...\n",
       "                            ...                        \n",
       "83    Modern Application Development with Python on ...\n",
       "84    Assess for Success  Marketing Analytics and Me...\n",
       "85    Foundations of Digital Marketing and E commerc...\n",
       "86    From Likes to Leads  Interact with Customers O...\n",
       "87    Teaching Impacts of Technology in K 12 Educati...\n",
       "Name: Final Col, Length: 78, dtype: object"
      ]
     },
     "execution_count": 124,
     "metadata": {},
     "output_type": "execute_result"
    }
   ],
   "source": [
    "df['Final Col']=df['Title']+' '+df['Description']+' '+df['Skills']\n",
    "df['Final Col']"
   ]
  },
  {
   "cell_type": "code",
   "execution_count": 125,
   "id": "956ed8a0",
   "metadata": {
    "execution": {
     "iopub.execute_input": "2022-05-30T16:02:59.833791Z",
     "iopub.status.busy": "2022-05-30T16:02:59.833134Z",
     "iopub.status.idle": "2022-05-30T16:02:59.845702Z",
     "shell.execute_reply": "2022-05-30T16:02:59.844840Z"
    },
    "papermill": {
     "duration": 0.021886,
     "end_time": "2022-05-30T16:02:59.847836",
     "exception": false,
     "start_time": "2022-05-30T16:02:59.825950",
     "status": "completed"
    },
    "tags": []
   },
   "outputs": [
    {
     "data": {
      "text/html": [
       "<div>\n",
       "<style scoped>\n",
       "    .dataframe tbody tr th:only-of-type {\n",
       "        vertical-align: middle;\n",
       "    }\n",
       "\n",
       "    .dataframe tbody tr th {\n",
       "        vertical-align: top;\n",
       "    }\n",
       "\n",
       "    .dataframe thead th {\n",
       "        text-align: right;\n",
       "    }\n",
       "</style>\n",
       "<table border=\"1\" class=\"dataframe\">\n",
       "  <thead>\n",
       "    <tr style=\"text-align: right;\">\n",
       "      <th></th>\n",
       "      <th>Title</th>\n",
       "      <th>Offered by</th>\n",
       "      <th>Level</th>\n",
       "      <th>Rating</th>\n",
       "      <th>Description</th>\n",
       "      <th>Skills</th>\n",
       "      <th>Final Col</th>\n",
       "    </tr>\n",
       "  </thead>\n",
       "  <tbody>\n",
       "    <tr>\n",
       "      <th>0</th>\n",
       "      <td>Microsoft Azure Data Scientist Associate (DP 1...</td>\n",
       "      <td>Microsoft</td>\n",
       "      <td>Intermediate</td>\n",
       "      <td>4.5</td>\n",
       "      <td>This Professional Certificate is intended for ...</td>\n",
       "      <td>Manage Azure resources for machine learning De...</td>\n",
       "      <td>Microsoft Azure Data Scientist Associate (DP 1...</td>\n",
       "    </tr>\n",
       "    <tr>\n",
       "      <th>1</th>\n",
       "      <td>Machine Learning Specialization</td>\n",
       "      <td>Stanford University</td>\n",
       "      <td>Beginner</td>\n",
       "      <td>4.9</td>\n",
       "      <td>The Machine Learning Specialization is a found...</td>\n",
       "      <td>Decision Trees Artificial Neural Network Logis...</td>\n",
       "      <td>Machine Learning Specialization The Machine Le...</td>\n",
       "    </tr>\n",
       "    <tr>\n",
       "      <th>2</th>\n",
       "      <td>Machine Learning Engineering for Production (M...</td>\n",
       "      <td>DeepLearning.AI</td>\n",
       "      <td>Advanced</td>\n",
       "      <td>4.7</td>\n",
       "      <td>Understanding machine learning and deep learni...</td>\n",
       "      <td>Managing Machine Learning Production Systems D...</td>\n",
       "      <td>Machine Learning Engineering for Production (M...</td>\n",
       "    </tr>\n",
       "    <tr>\n",
       "      <th>3</th>\n",
       "      <td>Fundamentals of Machine Learning for Healthcare</td>\n",
       "      <td>Stanford University</td>\n",
       "      <td>Beginner</td>\n",
       "      <td>4.8</td>\n",
       "      <td>Machine learning and artificial intelligence h...</td>\n",
       "      <td>Machine learning Biostatistics Traditional com...</td>\n",
       "      <td>Fundamentals of Machine Learning for Healthcar...</td>\n",
       "    </tr>\n",
       "    <tr>\n",
       "      <th>4</th>\n",
       "      <td>IBM Machine Learning Professional Certificate</td>\n",
       "      <td>IBM</td>\n",
       "      <td>Intermediate</td>\n",
       "      <td>4.6</td>\n",
       "      <td>Machine Learning is one of the most in demand ...</td>\n",
       "      <td>Artificial Intelligence  AI  Machine Learning ...</td>\n",
       "      <td>IBM Machine Learning Professional Certificate ...</td>\n",
       "    </tr>\n",
       "  </tbody>\n",
       "</table>\n",
       "</div>"
      ],
      "text/plain": [
       "                                               Title           Offered by  \\\n",
       "0  Microsoft Azure Data Scientist Associate (DP 1...            Microsoft   \n",
       "1                    Machine Learning Specialization  Stanford University   \n",
       "2  Machine Learning Engineering for Production (M...      DeepLearning.AI   \n",
       "3    Fundamentals of Machine Learning for Healthcare  Stanford University   \n",
       "4      IBM Machine Learning Professional Certificate                  IBM   \n",
       "\n",
       "          Level  Rating                                        Description  \\\n",
       "0  Intermediate     4.5  This Professional Certificate is intended for ...   \n",
       "1      Beginner     4.9  The Machine Learning Specialization is a found...   \n",
       "2      Advanced     4.7  Understanding machine learning and deep learni...   \n",
       "3      Beginner     4.8  Machine learning and artificial intelligence h...   \n",
       "4  Intermediate     4.6  Machine Learning is one of the most in demand ...   \n",
       "\n",
       "                                              Skills  \\\n",
       "0  Manage Azure resources for machine learning De...   \n",
       "1  Decision Trees Artificial Neural Network Logis...   \n",
       "2  Managing Machine Learning Production Systems D...   \n",
       "3  Machine learning Biostatistics Traditional com...   \n",
       "4  Artificial Intelligence  AI  Machine Learning ...   \n",
       "\n",
       "                                           Final Col  \n",
       "0  Microsoft Azure Data Scientist Associate (DP 1...  \n",
       "1  Machine Learning Specialization The Machine Le...  \n",
       "2  Machine Learning Engineering for Production (M...  \n",
       "3  Fundamentals of Machine Learning for Healthcar...  \n",
       "4  IBM Machine Learning Professional Certificate ...  "
      ]
     },
     "execution_count": 125,
     "metadata": {},
     "output_type": "execute_result"
    }
   ],
   "source": [
    "df.head()"
   ]
  },
  {
   "cell_type": "code",
   "execution_count": 126,
   "id": "4f487299",
   "metadata": {
    "execution": {
     "iopub.execute_input": "2022-05-30T16:02:59.861443Z",
     "iopub.status.busy": "2022-05-30T16:02:59.860984Z",
     "iopub.status.idle": "2022-05-30T16:03:00.568241Z",
     "shell.execute_reply": "2022-05-30T16:03:00.567116Z"
    },
    "papermill": {
     "duration": 0.716721,
     "end_time": "2022-05-30T16:03:00.570731",
     "exception": false,
     "start_time": "2022-05-30T16:02:59.854010",
     "status": "completed"
    },
    "tags": []
   },
   "outputs": [
    {
     "name": "stdout",
     "output_type": "stream",
     "text": [
      "  (0, 1677)\t0.03363860743067692\n",
      "  (0, 1877)\t0.034717538944297466\n",
      "  (0, 1515)\t0.026318650347046627\n",
      "  (0, 1355)\t0.0359102423980935\n",
      "  (0, 1287)\t0.05293671853776634\n",
      "  (0, 1669)\t0.05293671853776634\n",
      "  (0, 1465)\t0.05293671853776634\n",
      "  (0, 1663)\t0.038755175196001135\n",
      "  (0, 1649)\t0.04509014497953016\n",
      "  (0, 355)\t0.04509014497953016\n",
      "  (0, 2008)\t0.023062028079528785\n",
      "  (0, 82)\t0.023062028079528785\n",
      "  (0, 1542)\t0.06181720327552991\n",
      "  (0, 1816)\t0.0359102423980935\n",
      "  (0, 1514)\t0.03363860743067692\n",
      "  (0, 1159)\t0.05293671853776634\n",
      "  (0, 1708)\t0.019605042833475955\n",
      "  (0, 360)\t0.021202082581722414\n",
      "  (0, 422)\t0.01521545452129261\n",
      "  (0, 1209)\t0.04050019368881183\n",
      "  (0, 501)\t0.03363860743067692\n",
      "  (0, 1898)\t0.03724357142129399\n",
      "  (0, 1397)\t0.042564112502533634\n",
      "  (0, 958)\t0.042564112502533634\n",
      "  (0, 1070)\t0.038755175196001135\n",
      "  :\t:\n",
      "  (77, 1091)\t0.08665819308146579\n",
      "  (77, 2027)\t0.04363658661619986\n",
      "  (77, 156)\t0.08082092582821022\n",
      "  (77, 451)\t0.062228756222205056\n",
      "  (77, 1799)\t0.1287331872029659\n",
      "  (77, 532)\t0.06029484707474875\n",
      "  (77, 537)\t0.052692059094971815\n",
      "  (77, 356)\t0.19265729142234336\n",
      "  (77, 110)\t0.07629318958882425\n",
      "  (77, 1857)\t0.15807617728491544\n",
      "  (77, 1851)\t0.05852932634822738\n",
      "  (77, 1232)\t0.045328456850711143\n",
      "  (77, 1242)\t0.04920509910239292\n",
      "  (77, 1385)\t0.04920509910239292\n",
      "  (77, 189)\t0.045328456850711143\n",
      "  (77, 1219)\t0.06675649246159103\n",
      "  (77, 2014)\t0.04207499412150009\n",
      "  (77, 1845)\t0.13893187264743803\n",
      "  (77, 1738)\t0.10704534847215035\n",
      "  (77, 360)\t0.1140097427842977\n",
      "  (77, 1637)\t0.10384081571543771\n",
      "  (77, 1946)\t0.09649794102453099\n",
      "  (77, 1060)\t0.06341998125771711\n",
      "  (77, 1031)\t0.04717433684373616\n",
      "  (77, 459)\t0.05174544675120598\n"
     ]
    }
   ],
   "source": [
    "from sklearn.feature_extraction.text import TfidfVectorizer\n",
    "\n",
    "\n",
    "tfidf = TfidfVectorizer(stop_words='english')\n",
    "\n",
    "\n",
    "df['Final Col'] = df['Final Col'].fillna('')\n",
    "\n",
    "\n",
    "tfidf_matrix = tfidf.fit_transform(df['Final Col'])\n",
    "tfidf_matrix\n",
    "print(tfidf_matrix)"
   ]
  },
  {
   "cell_type": "code",
   "execution_count": 127,
   "id": "132afe55",
   "metadata": {},
   "outputs": [
    {
     "name": "stdout",
     "output_type": "stream",
     "text": [
      "TfidfVectorizer(stop_words='english')\n"
     ]
    }
   ],
   "source": [
    "print(tfidf)"
   ]
  },
  {
   "cell_type": "code",
   "execution_count": 128,
   "id": "9a610b11",
   "metadata": {
    "execution": {
     "iopub.execute_input": "2022-05-30T16:03:00.585605Z",
     "iopub.status.busy": "2022-05-30T16:03:00.585132Z",
     "iopub.status.idle": "2022-05-30T16:03:01.362644Z",
     "shell.execute_reply": "2022-05-30T16:03:01.361736Z"
    },
    "papermill": {
     "duration": 0.787606,
     "end_time": "2022-05-30T16:03:01.364834",
     "exception": false,
     "start_time": "2022-05-30T16:03:00.577228",
     "status": "completed"
    },
    "tags": []
   },
   "outputs": [],
   "source": [
    "from sklearn.metrics.pairwise import cosine_similarity\n",
    "similarity = cosine_similarity(tfidf_matrix)"
   ]
  },
  {
   "cell_type": "code",
   "execution_count": 129,
   "id": "3548aac8",
   "metadata": {
    "execution": {
     "iopub.execute_input": "2022-05-30T16:03:01.379778Z",
     "iopub.status.busy": "2022-05-30T16:03:01.379039Z",
     "iopub.status.idle": "2022-05-30T16:03:01.388373Z",
     "shell.execute_reply": "2022-05-30T16:03:01.387267Z"
    },
    "papermill": {
     "duration": 0.01898,
     "end_time": "2022-05-30T16:03:01.390596",
     "exception": false,
     "start_time": "2022-05-30T16:03:01.371616",
     "status": "completed"
    },
    "scrolled": true,
    "tags": []
   },
   "outputs": [
    {
     "data": {
      "text/plain": [
       "array([[1.        , 0.20630834, 0.18227267, ..., 0.01890076, 0.02194948,\n",
       "        0.02295711],\n",
       "       [0.20630834, 1.        , 0.23019491, ..., 0.02172424, 0.03618942,\n",
       "        0.0556218 ],\n",
       "       [0.18227267, 0.23019491, 1.        , ..., 0.02757959, 0.00829479,\n",
       "        0.04117067],\n",
       "       ...,\n",
       "       [0.01890076, 0.02172424, 0.02757959, ..., 1.        , 0.34404306,\n",
       "        0.03284848],\n",
       "       [0.02194948, 0.03618942, 0.00829479, ..., 0.34404306, 1.        ,\n",
       "        0.03055063],\n",
       "       [0.02295711, 0.0556218 , 0.04117067, ..., 0.03284848, 0.03055063,\n",
       "        1.        ]])"
      ]
     },
     "execution_count": 129,
     "metadata": {},
     "output_type": "execute_result"
    }
   ],
   "source": [
    "similarity"
   ]
  },
  {
   "cell_type": "code",
   "execution_count": 130,
   "id": "bd291771",
   "metadata": {
    "execution": {
     "iopub.execute_input": "2022-05-30T16:03:01.404845Z",
     "iopub.status.busy": "2022-05-30T16:03:01.404447Z",
     "iopub.status.idle": "2022-05-30T16:03:01.410294Z",
     "shell.execute_reply": "2022-05-30T16:03:01.409279Z"
    },
    "papermill": {
     "duration": 0.015167,
     "end_time": "2022-05-30T16:03:01.412223",
     "exception": false,
     "start_time": "2022-05-30T16:03:01.397056",
     "status": "completed"
    },
    "tags": []
   },
   "outputs": [],
   "source": [
    "indices = pd.Series(df.index, index=df['Title']).drop_duplicates()"
   ]
  },
  {
   "cell_type": "code",
   "execution_count": 131,
   "id": "8f7cbf44",
   "metadata": {},
   "outputs": [],
   "source": [
    "from word2number import w2n\n"
   ]
  },
  {
   "cell_type": "code",
   "execution_count": 132,
   "id": "ede65c45",
   "metadata": {
    "execution": {
     "iopub.execute_input": "2022-05-30T16:03:01.426733Z",
     "iopub.status.busy": "2022-05-30T16:03:01.425996Z",
     "iopub.status.idle": "2022-05-30T16:03:01.432398Z",
     "shell.execute_reply": "2022-05-30T16:03:01.431687Z"
    },
    "papermill": {
     "duration": 0.015821,
     "end_time": "2022-05-30T16:03:01.434408",
     "exception": false,
     "start_time": "2022-05-30T16:03:01.418587",
     "status": "completed"
    },
    "tags": []
   },
   "outputs": [],
   "source": [
    "def get_recommendations(title,cosine_sim=similarity):\n",
    "    nu, level, key = title.split(\" \",1)\n",
    "    number = w2n.word_to_num(nu)\n",
    "    idx = indices[key]\n",
    "    sim_scores = list(enumerate(cosine_sim[idx]))\n",
    "    sim_scores = sorted(sim_scores, key=lambda x: x[1], reverse=True)\n",
    "    sim_scores = sim_scores[0:number]\n",
    "    courses = [i[0] for i in sim_scores]\n",
    "\n",
    "    return df['Title'].iloc[courses]"
   ]
  },
  {
   "cell_type": "code",
   "execution_count": null,
   "id": "5477b187",
   "metadata": {},
   "outputs": [],
   "source": []
  },
  {
   "cell_type": "code",
   "execution_count": 133,
   "id": "d481a3b9",
   "metadata": {
    "execution": {
     "iopub.execute_input": "2022-05-30T16:03:01.448721Z",
     "iopub.status.busy": "2022-05-30T16:03:01.448346Z",
     "iopub.status.idle": "2022-05-30T16:03:01.462745Z",
     "shell.execute_reply": "2022-05-30T16:03:01.461849Z"
    },
    "papermill": {
     "duration": 0.023858,
     "end_time": "2022-05-30T16:03:01.464649",
     "exception": false,
     "start_time": "2022-05-30T16:03:01.440791",
     "status": "completed"
    },
    "tags": []
   },
   "outputs": [
    {
     "data": {
      "text/plain": [
       "59                         DevOps on AWS Specialization\n",
       "67                    DevOps on AWS  Release and Deploy\n",
       "55                   DevOps on AWS  Operate and Monitor\n",
       "83    Modern Application Development with Python on ...\n",
       "8             Getting Started with AWS Machine Learning\n",
       "64       Improve Your Python Code Using Amazon CodeGuru\n",
       "Name: Title, dtype: object"
      ]
     },
     "execution_count": 133,
     "metadata": {},
     "output_type": "execute_result"
    }
   ],
   "source": [
    "get_recommendations('six Wearable Technologies and Sports Analytics')"
   ]
  },
  {
   "cell_type": "code",
   "execution_count": 136,
   "id": "b073b1d9",
   "metadata": {
    "execution": {
     "iopub.execute_input": "2022-05-30T16:03:01.479319Z",
     "iopub.status.busy": "2022-05-30T16:03:01.478634Z",
     "iopub.status.idle": "2022-05-30T16:03:01.488626Z",
     "shell.execute_reply": "2022-05-30T16:03:01.487972Z"
    },
    "papermill": {
     "duration": 0.019471,
     "end_time": "2022-05-30T16:03:01.490457",
     "exception": false,
     "start_time": "2022-05-30T16:03:01.470986",
     "status": "completed"
    },
    "scrolled": true,
    "tags": []
   },
   "outputs": [
    {
     "data": {
      "text/plain": [
       "3       Fundamentals of Machine Learning for Healthcare\n",
       "29                      AI in Healthcare Specialization\n",
       "16    Introduction to TensorFlow for Artificial Inte...\n",
       "5     Unsupervised Learning  Recommenders  Reinforce...\n",
       "1                       Machine Learning Specialization\n",
       "4         IBM Machine Learning Professional Certificate\n",
       "0     Microsoft Azure Data Scientist Associate (DP 1...\n",
       "2     Machine Learning Engineering for Production (M...\n",
       "10          IBM AI Engineering Professional Certificate\n",
       "22    AI Workflow  Machine Learning  Visual Recognit...\n",
       "21                         Deep Learning Specialization\n",
       "8             Getting Started with AWS Machine Learning\n",
       "47                    Neural Networks and Deep Learning\n",
       "41         Key Technologies for Business Specialization\n",
       "7                    Applied Machine Learning in Python\n",
       "6        Introduction to Machine Learning in Production\n",
       "38       IBM AI Foundations for Business Specialization\n",
       "25                        AI Workflow  AI in Production\n",
       "27                                      AI For Everyone\n",
       "36            IBM Data Science Professional Certificate\n",
       "26           Probabilistic Graphical Models 3  Learning\n",
       "44          Introduction to Data Science Specialization\n",
       "19            IBM AI Enterprise Workflow Specialization\n",
       "48     Data Science  Foundations using R Specialization\n",
       "14    Introduction to Machine Learning in Sports Ana...\n",
       "34              IBM Applied AI Professional Certificate\n",
       "Name: Title, dtype: object"
      ]
     },
     "execution_count": 136,
     "metadata": {},
     "output_type": "execute_result"
    }
   ],
   "source": [
    "get_recommendations('twenty-six Fundamentals of Machine Learning for Healthcare')"
   ]
  },
  {
   "cell_type": "code",
   "execution_count": 135,
   "id": "eaf0f68e",
   "metadata": {},
   "outputs": [],
   "source": [
    "import pandas as pd \n",
    "from sklearn.feature_extraction.text import TfidfTransformer \n",
    "from sklearn.feature_extraction.text import CountVectorizer \n",
    "\n",
    "docs=[\"Machine Learning Specialization The Machine Learning Specialization is a foundational online program created in collaboration between DeepLearning.AI and Stanford Online. This beginner-friendly program will teach you the fundamentals of machine learning and how to use these techniques to build real-world AI applications. This Specialization is taught by Andrew Ng, an AI visionary who has led critical research at Stanford University and groundbreaking work at Google Brain, Baidu, and Landing.AI to advance the AI field.This 3-course Specialization is an updated version of Andrew’s pioneering Machine Learning course, rated 4.9 out of 5 and taken by over 4.8 million learners since it launched in 2012. It provides a broad introduction to modern machine learning, including supervised learning (multiple linear regression, logistic regression, neural networks, and decision trees), unsupervised learning (clustering, dimensionality reduction, recommender systems), and some of the best practices used in Silicon Valley for artificial intelligence and machine learning innovation (evaluating and tuning models, taking a data-centric approach to improving performance) By the end of this Specialization, you will have mastered key concepts and gained the practical know-how to quickly and powerfully apply machine learning to challenging real-world problems. If you’re looking to break into AI or build a career in machine learning, the new Machine Learning Specialization is the best place to start Decision Trees Artificial Neural Network Logistic Regression Recommender Systems Linear Regression Regularization to Avoid Overfitting Gradient Descent Supervised Learning Logistic Regression for Classification Xgboost Tensorflow Tree Ensembles\",\n",
    "      \"Deep Learning Specialization The Deep Learning Specialization is a foundational program that will help you understand the capabilities, challenges, and consequences of deep learning and prepare you to participate in the development of leading-edge AI technology. In this Specialization, you will build and train neural network architectures such as Convolutional Neural Networks, Recurrent Neural Networks, LSTMs, Transformers, and learn how to make them better with strategies such as Dropout, BatchNorm, Xavier/He initialization, and more. Get ready to master theoretical concepts and their industry applications using Python and TensorFlow and tackle real-world cases such as speech recognition, music synthesis, chatbots, machine translation, natural language processing, and more.AI is transforming many industries. The Deep Learning Specialization provides a pathway for you to take the definitive step in the world of AI by helping you gain the knowledge and skills to level up your career. Along the way, you will also get career advice from deep learning experts from industry and academia Artificial Neural Network Convolutional Neural Network Tensorflow Recurrent Neural Network Transformers Deep Learning Backpropagation Python Programming Neural Network Architecture Mathematical Optimization Hyperparameter tuning Inductive Transfer\"\n",
    "]"
   ]
  },
  {
   "cell_type": "code",
   "execution_count": 62,
   "id": "2131a1e1",
   "metadata": {
    "scrolled": true
   },
   "outputs": [
    {
     "name": "stdout",
     "output_type": "stream",
     "text": [
      "  (0, 110)\t9\n",
      "  (0, 103)\t12\n",
      "  (0, 166)\t6\n",
      "  (0, 186)\t8\n",
      "  (0, 92)\t4\n",
      "  (0, 63)\t1\n",
      "  (0, 129)\t2\n",
      "  (0, 146)\t2\n",
      "  (0, 45)\t1\n",
      "  (0, 82)\t4\n",
      "  (0, 40)\t1\n",
      "  (0, 25)\t1\n",
      "  (0, 50)\t1\n",
      "  (0, 4)\t6\n",
      "  (0, 8)\t11\n",
      "  (0, 168)\t2\n",
      "  (0, 191)\t4\n",
      "  (0, 22)\t1\n",
      "  (0, 64)\t1\n",
      "  (0, 214)\t2\n",
      "  (0, 181)\t1\n",
      "  (0, 220)\t3\n",
      "  (0, 66)\t1\n",
      "  (0, 128)\t5\n",
      "  (0, 78)\t2\n",
      "  :\t:\n",
      "  (1, 177)\t1\n",
      "  (1, 51)\t1\n",
      "  (1, 170)\t1\n",
      "  (1, 77)\t1\n",
      "  (1, 67)\t1\n",
      "  (1, 96)\t1\n",
      "  (1, 164)\t1\n",
      "  (1, 105)\t1\n",
      "  (1, 204)\t1\n",
      "  (1, 221)\t1\n",
      "  (1, 5)\t1\n",
      "  (1, 212)\t1\n",
      "  (1, 6)\t1\n",
      "  (1, 3)\t1\n",
      "  (1, 65)\t2\n",
      "  (1, 60)\t1\n",
      "  (1, 1)\t1\n",
      "  (1, 19)\t1\n",
      "  (1, 147)\t1\n",
      "  (1, 13)\t1\n",
      "  (1, 115)\t1\n",
      "  (1, 130)\t1\n",
      "  (1, 79)\t1\n",
      "  (1, 84)\t1\n",
      "  (1, 194)\t1\n"
     ]
    }
   ],
   "source": [
    "\n",
    "cv=CountVectorizer() \n",
    "\n",
    "word_count_vector=cv.fit_transform(docs)\n",
    "print(word_count_vector)"
   ]
  },
  {
   "cell_type": "code",
   "execution_count": 63,
   "id": "08d03494",
   "metadata": {},
   "outputs": [
    {
     "data": {
      "text/plain": [
       "(2, 222)"
      ]
     },
     "execution_count": 63,
     "metadata": {},
     "output_type": "execute_result"
    }
   ],
   "source": [
    "word_count_vector.shape"
   ]
  },
  {
   "cell_type": "code",
   "execution_count": 64,
   "id": "ed1489bd",
   "metadata": {},
   "outputs": [
    {
     "data": {
      "text/plain": [
       "TfidfTransformer()"
      ]
     },
     "execution_count": 64,
     "metadata": {},
     "output_type": "execute_result"
    }
   ],
   "source": [
    "tfidf_transformer=TfidfTransformer(smooth_idf=True,use_idf=True) \n",
    "tfidf_transformer.fit(word_count_vector)"
   ]
  },
  {
   "cell_type": "code",
   "execution_count": 65,
   "id": "63bc1034",
   "metadata": {},
   "outputs": [
    {
     "data": {
      "text/html": [
       "<div>\n",
       "<style scoped>\n",
       "    .dataframe tbody tr th:only-of-type {\n",
       "        vertical-align: middle;\n",
       "    }\n",
       "\n",
       "    .dataframe tbody tr th {\n",
       "        vertical-align: top;\n",
       "    }\n",
       "\n",
       "    .dataframe thead th {\n",
       "        text-align: right;\n",
       "    }\n",
       "</style>\n",
       "<table border=\"1\" class=\"dataframe\">\n",
       "  <thead>\n",
       "    <tr style=\"text-align: right;\">\n",
       "      <th></th>\n",
       "      <th>idf_weights</th>\n",
       "    </tr>\n",
       "  </thead>\n",
       "  <tbody>\n",
       "    <tr>\n",
       "      <th>machine</th>\n",
       "      <td>1.000000</td>\n",
       "    </tr>\n",
       "    <tr>\n",
       "      <th>tensorflow</th>\n",
       "      <td>1.000000</td>\n",
       "    </tr>\n",
       "    <tr>\n",
       "      <th>program</th>\n",
       "      <td>1.000000</td>\n",
       "    </tr>\n",
       "    <tr>\n",
       "      <th>provides</th>\n",
       "      <td>1.000000</td>\n",
       "    </tr>\n",
       "    <tr>\n",
       "      <th>this</th>\n",
       "      <td>1.000000</td>\n",
       "    </tr>\n",
       "    <tr>\n",
       "      <th>...</th>\n",
       "      <td>...</td>\n",
       "    </tr>\n",
       "    <tr>\n",
       "      <th>inductive</th>\n",
       "      <td>1.405465</td>\n",
       "    </tr>\n",
       "    <tr>\n",
       "      <th>industries</th>\n",
       "      <td>1.405465</td>\n",
       "    </tr>\n",
       "    <tr>\n",
       "      <th>industry</th>\n",
       "      <td>1.405465</td>\n",
       "    </tr>\n",
       "    <tr>\n",
       "      <th>have</th>\n",
       "      <td>1.405465</td>\n",
       "    </tr>\n",
       "    <tr>\n",
       "      <th>your</th>\n",
       "      <td>1.405465</td>\n",
       "    </tr>\n",
       "  </tbody>\n",
       "</table>\n",
       "<p>222 rows × 1 columns</p>\n",
       "</div>"
      ],
      "text/plain": [
       "            idf_weights\n",
       "machine        1.000000\n",
       "tensorflow     1.000000\n",
       "program        1.000000\n",
       "provides       1.000000\n",
       "this           1.000000\n",
       "...                 ...\n",
       "inductive      1.405465\n",
       "industries     1.405465\n",
       "industry       1.405465\n",
       "have           1.405465\n",
       "your           1.405465\n",
       "\n",
       "[222 rows x 1 columns]"
      ]
     },
     "execution_count": 65,
     "metadata": {},
     "output_type": "execute_result"
    }
   ],
   "source": [
    "\n",
    "df_idf = pd.DataFrame(tfidf_transformer.idf_, index=cv.get_feature_names(),columns=[\"idf_weights\"]) \n",
    "\n",
    "df_idf.sort_values(by=['idf_weights'])"
   ]
  },
  {
   "cell_type": "code",
   "execution_count": 68,
   "id": "bffb5810",
   "metadata": {},
   "outputs": [],
   "source": [
    " \n",
    "count_vector=cv.transform(docs) \n",
    "\n",
    "tf_idf_vector=tfidf_transformer.transform(count_vector)"
   ]
  },
  {
   "cell_type": "code",
   "execution_count": 70,
   "id": "83ab166b",
   "metadata": {},
   "outputs": [
    {
     "data": {
      "text/html": [
       "<div>\n",
       "<style scoped>\n",
       "    .dataframe tbody tr th:only-of-type {\n",
       "        vertical-align: middle;\n",
       "    }\n",
       "\n",
       "    .dataframe tbody tr th {\n",
       "        vertical-align: top;\n",
       "    }\n",
       "\n",
       "    .dataframe thead th {\n",
       "        text-align: right;\n",
       "    }\n",
       "</style>\n",
       "<table border=\"1\" class=\"dataframe\">\n",
       "  <thead>\n",
       "    <tr style=\"text-align: right;\">\n",
       "      <th></th>\n",
       "      <th>tfidf</th>\n",
       "    </tr>\n",
       "  </thead>\n",
       "  <tbody>\n",
       "    <tr>\n",
       "      <th>learning</th>\n",
       "      <td>0.364902</td>\n",
       "    </tr>\n",
       "    <tr>\n",
       "      <th>and</th>\n",
       "      <td>0.334493</td>\n",
       "    </tr>\n",
       "    <tr>\n",
       "      <th>to</th>\n",
       "      <td>0.304085</td>\n",
       "    </tr>\n",
       "    <tr>\n",
       "      <th>machine</th>\n",
       "      <td>0.273676</td>\n",
       "    </tr>\n",
       "    <tr>\n",
       "      <th>the</th>\n",
       "      <td>0.243268</td>\n",
       "    </tr>\n",
       "    <tr>\n",
       "      <th>...</th>\n",
       "      <td>...</td>\n",
       "    </tr>\n",
       "    <tr>\n",
       "      <th>knowledge</th>\n",
       "      <td>0.000000</td>\n",
       "    </tr>\n",
       "    <tr>\n",
       "      <th>initialization</th>\n",
       "      <td>0.000000</td>\n",
       "    </tr>\n",
       "    <tr>\n",
       "      <th>industry</th>\n",
       "      <td>0.000000</td>\n",
       "    </tr>\n",
       "    <tr>\n",
       "      <th>industries</th>\n",
       "      <td>0.000000</td>\n",
       "    </tr>\n",
       "    <tr>\n",
       "      <th>your</th>\n",
       "      <td>0.000000</td>\n",
       "    </tr>\n",
       "  </tbody>\n",
       "</table>\n",
       "<p>222 rows × 1 columns</p>\n",
       "</div>"
      ],
      "text/plain": [
       "                   tfidf\n",
       "learning        0.364902\n",
       "and             0.334493\n",
       "to              0.304085\n",
       "machine         0.273676\n",
       "the             0.243268\n",
       "...                  ...\n",
       "knowledge       0.000000\n",
       "initialization  0.000000\n",
       "industry        0.000000\n",
       "industries      0.000000\n",
       "your            0.000000\n",
       "\n",
       "[222 rows x 1 columns]"
      ]
     },
     "execution_count": 70,
     "metadata": {},
     "output_type": "execute_result"
    }
   ],
   "source": [
    "feature_names = cv.get_feature_names() \n",
    "\n",
    "first_document_vector=tf_idf_vector[0] \n",
    "\n",
    "df = pd.DataFrame(first_document_vector.T.todense(), index=feature_names, columns=[\"tfidf\"]) \n",
    "df.sort_values(by=[\"tfidf\"],ascending=False)"
   ]
  },
  {
   "cell_type": "code",
   "execution_count": null,
   "id": "209d6e62",
   "metadata": {},
   "outputs": [],
   "source": []
  },
  {
   "cell_type": "code",
   "execution_count": null,
   "id": "850894b8",
   "metadata": {},
   "outputs": [],
   "source": []
  },
  {
   "cell_type": "code",
   "execution_count": null,
   "id": "a0fe00bd",
   "metadata": {},
   "outputs": [],
   "source": []
  }
 ],
 "metadata": {
  "kernelspec": {
   "display_name": "Python 3 (ipykernel)",
   "language": "python",
   "name": "python3"
  },
  "language_info": {
   "codemirror_mode": {
    "name": "ipython",
    "version": 3
   },
   "file_extension": ".py",
   "mimetype": "text/x-python",
   "name": "python",
   "nbconvert_exporter": "python",
   "pygments_lexer": "ipython3",
   "version": "3.9.7"
  },
  "papermill": {
   "default_parameters": {},
   "duration": 13.008414,
   "end_time": "2022-05-30T16:03:02.217032",
   "environment_variables": {},
   "exception": null,
   "input_path": "__notebook__.ipynb",
   "output_path": "__notebook__.ipynb",
   "parameters": {},
   "start_time": "2022-05-30T16:02:49.208618",
   "version": "2.3.4"
  }
 },
 "nbformat": 4,
 "nbformat_minor": 5
}
