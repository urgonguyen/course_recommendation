{
 "cells": [
  {
   "cell_type": "code",
   "execution_count": 4,
   "id": "d1ef98a2",
   "metadata": {},
   "outputs": [],
   "source": [
    "import numpy as np\n",
    "import pandas as pd\n",
    "import matplotlib.pyplot as plt\n",
    "import seaborn as sns\n",
    "from wordcloud import WordCloud\n",
    "from sklearn.feature_extraction.text import TfidfVectorizer\n",
    "from sklearn.metrics.pairwise import linear_kernel\n",
    "sns.set_style('darkgrid')\n",
    "plt.style.use('fivethirtyeight')"
   ]
  },
  {
   "cell_type": "code",
   "execution_count": 2,
   "id": "3d602054",
   "metadata": {
    "scrolled": true
   },
   "outputs": [
    {
     "name": "stdout",
     "output_type": "stream",
     "text": [
      "Collecting wordcloud\n",
      "  Downloading wordcloud-1.8.2.2-cp39-cp39-win_amd64.whl (153 kB)\n",
      "Requirement already satisfied: matplotlib in c:\\programdata\\anaconda3\\lib\\site-packages (from wordcloud) (3.4.3)\n",
      "Requirement already satisfied: numpy>=1.6.1 in c:\\programdata\\anaconda3\\lib\\site-packages (from wordcloud) (1.20.3)\n",
      "Requirement already satisfied: pillow in c:\\programdata\\anaconda3\\lib\\site-packages (from wordcloud) (8.4.0)\n",
      "Requirement already satisfied: python-dateutil>=2.7 in c:\\programdata\\anaconda3\\lib\\site-packages (from matplotlib->wordcloud) (2.8.2)\n",
      "Requirement already satisfied: pyparsing>=2.2.1 in c:\\programdata\\anaconda3\\lib\\site-packages (from matplotlib->wordcloud) (3.0.4)\n",
      "Requirement already satisfied: cycler>=0.10 in c:\\programdata\\anaconda3\\lib\\site-packages (from matplotlib->wordcloud) (0.10.0)\n",
      "Requirement already satisfied: kiwisolver>=1.0.1 in c:\\programdata\\anaconda3\\lib\\site-packages (from matplotlib->wordcloud) (1.3.1)\n",
      "Requirement already satisfied: six in c:\\programdata\\anaconda3\\lib\\site-packages (from cycler>=0.10->matplotlib->wordcloud) (1.16.0)\n",
      "Installing collected packages: wordcloud\n",
      "Successfully installed wordcloud-1.8.2.2\n"
     ]
    }
   ],
   "source": [
    "!pip install wordcloud"
   ]
  },
  {
   "cell_type": "code",
   "execution_count": 5,
   "id": "b1d2b2ab",
   "metadata": {},
   "outputs": [
    {
     "data": {
      "text/html": [
       "<div>\n",
       "<style scoped>\n",
       "    .dataframe tbody tr th:only-of-type {\n",
       "        vertical-align: middle;\n",
       "    }\n",
       "\n",
       "    .dataframe tbody tr th {\n",
       "        vertical-align: top;\n",
       "    }\n",
       "\n",
       "    .dataframe thead th {\n",
       "        text-align: right;\n",
       "    }\n",
       "</style>\n",
       "<table border=\"1\" class=\"dataframe\">\n",
       "  <thead>\n",
       "    <tr style=\"text-align: right;\">\n",
       "      <th></th>\n",
       "      <th>Title</th>\n",
       "      <th>Offered by</th>\n",
       "      <th>Level</th>\n",
       "      <th>Rating</th>\n",
       "      <th>URL</th>\n",
       "      <th>Description</th>\n",
       "      <th>Skills</th>\n",
       "    </tr>\n",
       "  </thead>\n",
       "  <tbody>\n",
       "    <tr>\n",
       "      <th>0</th>\n",
       "      <td>Microsoft Azure Data Scientist Associate (DP-1...</td>\n",
       "      <td>Microsoft</td>\n",
       "      <td>Intermediate</td>\n",
       "      <td>4.5</td>\n",
       "      <td>https://in.coursera.org/professional-certifica...</td>\n",
       "      <td>This Professional Certificate is intended for ...</td>\n",
       "      <td>Manage Azure resources for machine learning De...</td>\n",
       "    </tr>\n",
       "    <tr>\n",
       "      <th>1</th>\n",
       "      <td>Machine Learning Specialization</td>\n",
       "      <td>Stanford University</td>\n",
       "      <td>Beginner</td>\n",
       "      <td>4.9</td>\n",
       "      <td>https://in.coursera.org/specializations/machin...</td>\n",
       "      <td>The Machine Learning Specialization is a found...</td>\n",
       "      <td>Decision Trees Artificial Neural Network Logis...</td>\n",
       "    </tr>\n",
       "    <tr>\n",
       "      <th>2</th>\n",
       "      <td>Machine Learning Engineering for Production (M...</td>\n",
       "      <td>DeepLearning.AI</td>\n",
       "      <td>Advanced</td>\n",
       "      <td>4.7</td>\n",
       "      <td>https://in.coursera.org/browse/data-science/ma...</td>\n",
       "      <td>Understanding machine learning and deep learni...</td>\n",
       "      <td>Managing Machine Learning Production Systems D...</td>\n",
       "    </tr>\n",
       "    <tr>\n",
       "      <th>3</th>\n",
       "      <td>Fundamentals of Machine Learning for Healthcare</td>\n",
       "      <td>Stanford University</td>\n",
       "      <td>Beginner</td>\n",
       "      <td>4.8</td>\n",
       "      <td>https://in.coursera.org/learn/fundamental-mach...</td>\n",
       "      <td>Machine learning and artificial intelligence h...</td>\n",
       "      <td>Machine learning Biostatistics Traditional com...</td>\n",
       "    </tr>\n",
       "    <tr>\n",
       "      <th>4</th>\n",
       "      <td>IBM Machine Learning Professional Certificate</td>\n",
       "      <td>IBM</td>\n",
       "      <td>Intermediate</td>\n",
       "      <td>4.6</td>\n",
       "      <td>https://in.coursera.org/professional-certifica...</td>\n",
       "      <td>Machine Learning is one of the most in-demand ...</td>\n",
       "      <td>Artificial Intelligence (AI) Machine Learning ...</td>\n",
       "    </tr>\n",
       "  </tbody>\n",
       "</table>\n",
       "</div>"
      ],
      "text/plain": [
       "                                               Title           Offered by  \\\n",
       "0  Microsoft Azure Data Scientist Associate (DP-1...            Microsoft   \n",
       "1                    Machine Learning Specialization  Stanford University   \n",
       "2  Machine Learning Engineering for Production (M...      DeepLearning.AI   \n",
       "3    Fundamentals of Machine Learning for Healthcare  Stanford University   \n",
       "4      IBM Machine Learning Professional Certificate                  IBM   \n",
       "\n",
       "          Level Rating                                                URL  \\\n",
       "0  Intermediate    4.5  https://in.coursera.org/professional-certifica...   \n",
       "1      Beginner    4.9  https://in.coursera.org/specializations/machin...   \n",
       "2      Advanced    4.7  https://in.coursera.org/browse/data-science/ma...   \n",
       "3      Beginner    4.8  https://in.coursera.org/learn/fundamental-mach...   \n",
       "4  Intermediate    4.6  https://in.coursera.org/professional-certifica...   \n",
       "\n",
       "                                         Description  \\\n",
       "0  This Professional Certificate is intended for ...   \n",
       "1  The Machine Learning Specialization is a found...   \n",
       "2  Understanding machine learning and deep learni...   \n",
       "3  Machine learning and artificial intelligence h...   \n",
       "4  Machine Learning is one of the most in-demand ...   \n",
       "\n",
       "                                              Skills  \n",
       "0  Manage Azure resources for machine learning De...  \n",
       "1  Decision Trees Artificial Neural Network Logis...  \n",
       "2  Managing Machine Learning Production Systems D...  \n",
       "3  Machine learning Biostatistics Traditional com...  \n",
       "4  Artificial Intelligence (AI) Machine Learning ...  "
      ]
     },
     "execution_count": 5,
     "metadata": {},
     "output_type": "execute_result"
    }
   ],
   "source": [
    "url = 'course_data.csv'\n",
    "df = pd.read_csv(url, encoding = 'utf-8', encoding_errors='ignore')\n",
    "df.head()"
   ]
  },
  {
   "cell_type": "code",
   "execution_count": 11,
   "id": "d3746917",
   "metadata": {},
   "outputs": [
    {
     "data": {
      "text/html": [
       "<div>\n",
       "<style scoped>\n",
       "    .dataframe tbody tr th:only-of-type {\n",
       "        vertical-align: middle;\n",
       "    }\n",
       "\n",
       "    .dataframe tbody tr th {\n",
       "        vertical-align: top;\n",
       "    }\n",
       "\n",
       "    .dataframe thead th {\n",
       "        text-align: right;\n",
       "    }\n",
       "</style>\n",
       "<table border=\"1\" class=\"dataframe\">\n",
       "  <thead>\n",
       "    <tr style=\"text-align: right;\">\n",
       "      <th></th>\n",
       "      <th>Title</th>\n",
       "      <th>Offered by</th>\n",
       "      <th>Level</th>\n",
       "      <th>Rating</th>\n",
       "      <th>Description</th>\n",
       "      <th>Skills</th>\n",
       "    </tr>\n",
       "  </thead>\n",
       "  <tbody>\n",
       "    <tr>\n",
       "      <th>0</th>\n",
       "      <td>Microsoft Azure Data Scientist Associate (DP-1...</td>\n",
       "      <td>Microsoft</td>\n",
       "      <td>Intermediate</td>\n",
       "      <td>4.5</td>\n",
       "      <td>This Professional Certificate is intended for ...</td>\n",
       "      <td>Manage Azure resources for machine learning De...</td>\n",
       "    </tr>\n",
       "    <tr>\n",
       "      <th>1</th>\n",
       "      <td>Machine Learning Specialization</td>\n",
       "      <td>Stanford University</td>\n",
       "      <td>Beginner</td>\n",
       "      <td>4.9</td>\n",
       "      <td>The Machine Learning Specialization is a found...</td>\n",
       "      <td>Decision Trees Artificial Neural Network Logis...</td>\n",
       "    </tr>\n",
       "    <tr>\n",
       "      <th>2</th>\n",
       "      <td>Machine Learning Engineering for Production (M...</td>\n",
       "      <td>DeepLearning.AI</td>\n",
       "      <td>Advanced</td>\n",
       "      <td>4.7</td>\n",
       "      <td>Understanding machine learning and deep learni...</td>\n",
       "      <td>Managing Machine Learning Production Systems D...</td>\n",
       "    </tr>\n",
       "    <tr>\n",
       "      <th>3</th>\n",
       "      <td>Fundamentals of Machine Learning for Healthcare</td>\n",
       "      <td>Stanford University</td>\n",
       "      <td>Beginner</td>\n",
       "      <td>4.8</td>\n",
       "      <td>Machine learning and artificial intelligence h...</td>\n",
       "      <td>Machine learning Biostatistics Traditional com...</td>\n",
       "    </tr>\n",
       "    <tr>\n",
       "      <th>4</th>\n",
       "      <td>IBM Machine Learning Professional Certificate</td>\n",
       "      <td>IBM</td>\n",
       "      <td>Intermediate</td>\n",
       "      <td>4.6</td>\n",
       "      <td>Machine Learning is one of the most in-demand ...</td>\n",
       "      <td>Artificial Intelligence (AI) Machine Learning ...</td>\n",
       "    </tr>\n",
       "  </tbody>\n",
       "</table>\n",
       "</div>"
      ],
      "text/plain": [
       "                                               Title           Offered by  \\\n",
       "0  Microsoft Azure Data Scientist Associate (DP-1...            Microsoft   \n",
       "1                    Machine Learning Specialization  Stanford University   \n",
       "2  Machine Learning Engineering for Production (M...      DeepLearning.AI   \n",
       "3    Fundamentals of Machine Learning for Healthcare  Stanford University   \n",
       "4      IBM Machine Learning Professional Certificate                  IBM   \n",
       "\n",
       "          Level Rating                                        Description  \\\n",
       "0  Intermediate    4.5  This Professional Certificate is intended for ...   \n",
       "1      Beginner    4.9  The Machine Learning Specialization is a found...   \n",
       "2      Advanced    4.7  Understanding machine learning and deep learni...   \n",
       "3      Beginner    4.8  Machine learning and artificial intelligence h...   \n",
       "4  Intermediate    4.6  Machine Learning is one of the most in-demand ...   \n",
       "\n",
       "                                              Skills  \n",
       "0  Manage Azure resources for machine learning De...  \n",
       "1  Decision Trees Artificial Neural Network Logis...  \n",
       "2  Managing Machine Learning Production Systems D...  \n",
       "3  Machine learning Biostatistics Traditional com...  \n",
       "4  Artificial Intelligence (AI) Machine Learning ...  "
      ]
     },
     "execution_count": 11,
     "metadata": {},
     "output_type": "execute_result"
    }
   ],
   "source": [
    "# This dataframe contains some useless columns which must be dropped for a better analytics result\n",
    "uc = ['URL']  # uc means useless columns\n",
    "df = df.drop(columns=uc)\n",
    "df.head()"
   ]
  },
  {
   "cell_type": "code",
   "execution_count": 6,
   "id": "04adb8e5",
   "metadata": {},
   "outputs": [
    {
     "name": "stdout",
     "output_type": "stream",
     "text": [
      "Number of customers  =  88\n",
      "Number of parameters =  7\n"
     ]
    }
   ],
   "source": [
    "r,c = df.shape\n",
    "print(\"Number of customers  = \",r)\n",
    "print(\"Number of parameters = \",c)"
   ]
  },
  {
   "cell_type": "code",
   "execution_count": 7,
   "id": "225f2e7f",
   "metadata": {},
   "outputs": [
    {
     "name": "stdout",
     "output_type": "stream",
     "text": [
      "<class 'pandas.core.frame.DataFrame'>\n",
      "RangeIndex: 88 entries, 0 to 87\n",
      "Data columns (total 7 columns):\n",
      " #   Column       Non-Null Count  Dtype \n",
      "---  ------       --------------  ----- \n",
      " 0   Title        88 non-null     object\n",
      " 1   Offered by   88 non-null     object\n",
      " 2   Level        88 non-null     object\n",
      " 3   Rating       88 non-null     object\n",
      " 4   URL          88 non-null     object\n",
      " 5   Description  88 non-null     object\n",
      " 6   Skills       88 non-null     object\n",
      "dtypes: object(7)\n",
      "memory usage: 4.9+ KB\n"
     ]
    }
   ],
   "source": [
    "df.info()"
   ]
  },
  {
   "cell_type": "code",
   "execution_count": 26,
   "id": "bdb53042",
   "metadata": {},
   "outputs": [
    {
     "name": "stdout",
     "output_type": "stream",
     "text": [
      "Are there any missing values in the dataset ? False\n"
     ]
    }
   ],
   "source": [
    "print(\"Are there any missing values in the dataset ?\",df.isna().values.any())"
   ]
  },
  {
   "cell_type": "code",
   "execution_count": 8,
   "id": "382a5152",
   "metadata": {},
   "outputs": [
    {
     "data": {
      "text/plain": [
       "Beginner        41\n",
       "Intermediate    36\n",
       "Advanced        11\n",
       "Name: Level, dtype: int64"
      ]
     },
     "execution_count": 8,
     "metadata": {},
     "output_type": "execute_result"
    }
   ],
   "source": [
    "data = df['Level'].value_counts()\n",
    "data"
   ]
  },
  {
   "cell_type": "code",
   "execution_count": 29,
   "id": "6c5e4e32",
   "metadata": {},
   "outputs": [
    {
     "data": {
      "image/png": "[encoded data removed]",
      "text/plain": [
       "<Figure size 1080x720 with 1 Axes>"
      ]
     },
     "metadata": {},
     "output_type": "display_data"
    }
   ],
   "source": [
    "mag = ['Beginner','Advanced','Intermediate','Not available']\n",
    "  \n",
    "data = [1444,1005,837,186]\n",
    "explode = (0.1,0.0,0.0,0.0) \n",
    "  \n",
    "# Creating color parameters \n",
    "colors = (\"lightblue\",\"crimson\",\"yellow\",\"green\") \n",
    "  \n",
    "# Wedge properties \n",
    "wp = { 'linewidth' : 1, 'edgecolor' : \"white\" } \n",
    "  \n",
    "# Creating autocpt arguments \n",
    "def func(pct, allvalues): \n",
    "    absolute = int(pct / 100.*np.sum(allvalues)) \n",
    "    return \"{:.1f}%\\n({:d} g)\".format(pct, absolute) \n",
    "  \n",
    "# Creating plot \n",
    "fig, ax = plt.subplots(figsize =(15, 10)) \n",
    "wedges, texts, autotexts = ax.pie(data,  \n",
    "                                  autopct = lambda pct: func(pct, data), \n",
    "                                  explode = explode,  \n",
    "                                  labels = mag, \n",
    "                                  shadow = True, \n",
    "                                  colors = colors, \n",
    "                                  startangle = 90, \n",
    "                                  wedgeprops = wp, \n",
    "                                  textprops = dict(color =\"black\")) \n",
    "  \n",
    "# Adding legend \n",
    "ax.legend(wedges, mag, \n",
    "          title =\"Values\", \n",
    "          loc =\"center left\", \n",
    "          bbox_to_anchor =(1, 0, 0.5, 1)) \n",
    "  \n",
    "plt.setp(autotexts, size = 10, weight =\"bold\") \n",
    "ax.set_title(\"Payment type of course\\n\",size=19) \n",
    "  \n",
    "# show plot \n",
    "\n",
    "plt.show()"
   ]
  },
  {
   "cell_type": "code",
   "execution_count": 11,
   "id": "b84b1093",
   "metadata": {},
   "outputs": [
    {
     "data": {
      "text/plain": [
       "4.7    21\n",
       "4.6    20\n",
       "4.5    14\n",
       "4.8    12\n",
       "4.9     5\n",
       "4.4     4\n",
       "4.2     1\n",
       "4.3     1\n",
       "Name: Rating, dtype: int64"
      ]
     },
     "execution_count": 11,
     "metadata": {},
     "output_type": "execute_result"
    }
   ],
   "source": [
    "df['Rating'].value_counts()"
   ]
  },
  {
   "cell_type": "code",
   "execution_count": 10,
   "id": "359b873b",
   "metadata": {},
   "outputs": [],
   "source": [
    "df = df[df['Rating'] != 'Not available']"
   ]
  },
  {
   "cell_type": "code",
   "execution_count": 2,
   "id": "e48725de",
   "metadata": {},
   "outputs": [
    {
     "ename": "NameError",
     "evalue": "name 'df' is not defined",
     "output_type": "error",
     "traceback": [
      "\u001b[1;31m---------------------------------------------------------------------------\u001b[0m",
      "\u001b[1;31mNameError\u001b[0m                                 Traceback (most recent call last)",
      "\u001b[1;32m~\\AppData\\Local\\Temp/ipykernel_13800/1809207321.py\u001b[0m in \u001b[0;36m<module>\u001b[1;34m\u001b[0m\n\u001b[1;32m----> 1\u001b[1;33m \u001b[0mdf\u001b[0m\u001b[1;33m[\u001b[0m\u001b[1;34m'Rating'\u001b[0m\u001b[1;33m]\u001b[0m \u001b[1;33m=\u001b[0m \u001b[0mdf\u001b[0m\u001b[1;33m[\u001b[0m\u001b[1;34m'Rating'\u001b[0m\u001b[1;33m]\u001b[0m\u001b[1;33m.\u001b[0m\u001b[0mastype\u001b[0m\u001b[1;33m(\u001b[0m\u001b[0mfloat\u001b[0m\u001b[1;33m)\u001b[0m\u001b[1;33m\u001b[0m\u001b[1;33m\u001b[0m\u001b[0m\n\u001b[0m\u001b[0;32m      2\u001b[0m \u001b[0mdf\u001b[0m\u001b[1;33m\u001b[0m\u001b[1;33m\u001b[0m\u001b[0m\n",
      "\u001b[1;31mNameError\u001b[0m: name 'df' is not defined"
     ]
    }
   ],
   "source": [
    "df['Rating'] = df['Rating'].astype(float)\n",
    "df"
   ]
  },
  {
   "cell_type": "code",
   "execution_count": 12,
   "id": "1f932d00",
   "metadata": {
    "scrolled": false
   },
   "outputs": [
    {
     "data": {
      "text/plain": [
       "Text(0.5, 1.0, 'Count of course types\\n')"
      ]
     },
     "execution_count": 12,
     "metadata": {},
     "output_type": "execute_result"
    },
    {
     "data": {
      "image/png": "[encoded data removed]",
      "text/plain": [
       "<Figure size 1296x504 with 1 Axes>"
      ]
     },
     "metadata": {},
     "output_type": "display_data"
    }
   ],
   "source": [
    "plt.figure(figsize=(18,7))\n",
    "sns.countplot(data=df,x='Rating',palette='plasma')\n",
    "plt.xlabel('Ratings',fontsize='16',color='blue')\n",
    "plt.ylabel('Number of courses',fontsize='16',color='blue')\n",
    "plt.xticks(fontsize='14',color='green')\n",
    "plt.yticks(fontsize='14',color='red')\n",
    "plt.title(\"Count of course types\\n\",fontsize=24,fontweight='bold',color='indigo')"
   ]
  },
  {
   "cell_type": "code",
   "execution_count": 35,
   "id": "2b025269",
   "metadata": {},
   "outputs": [
    {
     "data": {
      "text/html": [
       "<div>\n",
       "<style scoped>\n",
       "    .dataframe tbody tr th:only-of-type {\n",
       "        vertical-align: middle;\n",
       "    }\n",
       "\n",
       "    .dataframe tbody tr th {\n",
       "        vertical-align: top;\n",
       "    }\n",
       "\n",
       "    .dataframe thead th {\n",
       "        text-align: right;\n",
       "    }\n",
       "</style>\n",
       "<table border=\"1\" class=\"dataframe\">\n",
       "  <thead>\n",
       "    <tr style=\"text-align: right;\">\n",
       "      <th></th>\n",
       "      <th>Title</th>\n",
       "      <th>Offered by</th>\n",
       "      <th>Level</th>\n",
       "      <th>Rating</th>\n",
       "      <th>URL</th>\n",
       "      <th>Description</th>\n",
       "      <th>Skills</th>\n",
       "    </tr>\n",
       "  </thead>\n",
       "  <tbody>\n",
       "    <tr>\n",
       "      <th>0</th>\n",
       "      <td>Microsoft Azure Data Scientist Associate (DP-1...</td>\n",
       "      <td>Microsoft</td>\n",
       "      <td>Intermediate</td>\n",
       "      <td>4.5</td>\n",
       "      <td>https://in.coursera.org/professional-certifica...</td>\n",
       "      <td>This Professional Certificate is intended for ...</td>\n",
       "      <td>Manage Azure resources for machine learning De...</td>\n",
       "    </tr>\n",
       "    <tr>\n",
       "      <th>1</th>\n",
       "      <td>Machine Learning Specialization</td>\n",
       "      <td>Stanford University</td>\n",
       "      <td>Beginner</td>\n",
       "      <td>4.9</td>\n",
       "      <td>https://in.coursera.org/specializations/machin...</td>\n",
       "      <td>The Machine Learning Specialization is a found...</td>\n",
       "      <td>Decision Trees Artificial Neural Network Logis...</td>\n",
       "    </tr>\n",
       "    <tr>\n",
       "      <th>2</th>\n",
       "      <td>Machine Learning Engineering for Production (M...</td>\n",
       "      <td>DeepLearning.AI</td>\n",
       "      <td>Advanced</td>\n",
       "      <td>4.7</td>\n",
       "      <td>https://in.coursera.org/browse/data-science/ma...</td>\n",
       "      <td>Understanding machine learning and deep learni...</td>\n",
       "      <td>Managing Machine Learning Production Systems D...</td>\n",
       "    </tr>\n",
       "    <tr>\n",
       "      <th>3</th>\n",
       "      <td>Fundamentals of Machine Learning for Healthcare</td>\n",
       "      <td>Stanford University</td>\n",
       "      <td>Beginner</td>\n",
       "      <td>4.8</td>\n",
       "      <td>https://in.coursera.org/learn/fundamental-mach...</td>\n",
       "      <td>Machine learning and artificial intelligence h...</td>\n",
       "      <td>Machine learning Biostatistics Traditional com...</td>\n",
       "    </tr>\n",
       "    <tr>\n",
       "      <th>4</th>\n",
       "      <td>IBM Machine Learning Professional Certificate</td>\n",
       "      <td>IBM</td>\n",
       "      <td>Intermediate</td>\n",
       "      <td>4.6</td>\n",
       "      <td>https://in.coursera.org/professional-certifica...</td>\n",
       "      <td>Machine Learning is one of the most in-demand ...</td>\n",
       "      <td>Artificial Intelligence (AI) Machine Learning ...</td>\n",
       "    </tr>\n",
       "    <tr>\n",
       "      <th>5</th>\n",
       "      <td>Unsupervised Learning, Recommenders, Reinforce...</td>\n",
       "      <td>Stanford University</td>\n",
       "      <td>Beginner</td>\n",
       "      <td>4.9</td>\n",
       "      <td>https://in.coursera.org/learn/unsupervised-lea...</td>\n",
       "      <td>In the third course of the Machine Learning Sp...</td>\n",
       "      <td>Collaborative Filtering Unsupervised Learning ...</td>\n",
       "    </tr>\n",
       "    <tr>\n",
       "      <th>6</th>\n",
       "      <td>Introduction to Machine Learning in Production</td>\n",
       "      <td>DeepLearning.AI</td>\n",
       "      <td>Advanced</td>\n",
       "      <td>4.8</td>\n",
       "      <td>https://in.coursera.org/learn/introduction-to-...</td>\n",
       "      <td>In the first course of Machine Learning Engine...</td>\n",
       "      <td>Human-level Performance (HLP) Concept Drift Mo...</td>\n",
       "    </tr>\n",
       "    <tr>\n",
       "      <th>7</th>\n",
       "      <td>Applied Machine Learning in Python</td>\n",
       "      <td>Michigan University</td>\n",
       "      <td>Intermediate</td>\n",
       "      <td>4.6</td>\n",
       "      <td>https://in.coursera.org/learn/python-machine-l...</td>\n",
       "      <td>This course will introduce the learner to appl...</td>\n",
       "      <td>Python Programming Machine Learning (ML) Algor...</td>\n",
       "    </tr>\n",
       "    <tr>\n",
       "      <th>8</th>\n",
       "      <td>Getting Started with AWS Machine Learning</td>\n",
       "      <td>AWS</td>\n",
       "      <td>Intermediate</td>\n",
       "      <td>4.5</td>\n",
       "      <td>https://in.coursera.org/learn/aws-machine-lear...</td>\n",
       "      <td>Machine learning (ML) is one of the fastest gr...</td>\n",
       "      <td>Artificial Intelligence (AI) Machine Learning ...</td>\n",
       "    </tr>\n",
       "    <tr>\n",
       "      <th>9</th>\n",
       "      <td>DeepLearning.AI TensorFlow Developer Professio...</td>\n",
       "      <td>DeepLearning.AI</td>\n",
       "      <td>Intermediate</td>\n",
       "      <td>4.7</td>\n",
       "      <td>https://in.coursera.org/professional-certifica...</td>\n",
       "      <td>TensorFlow is one of the most in-demand and po...</td>\n",
       "      <td>Computer Vision Convolutional Neural Network M...</td>\n",
       "    </tr>\n",
       "  </tbody>\n",
       "</table>\n",
       "</div>"
      ],
      "text/plain": [
       "                                               Title           Offered by  \\\n",
       "0  Microsoft Azure Data Scientist Associate (DP-1...            Microsoft   \n",
       "1                    Machine Learning Specialization  Stanford University   \n",
       "2  Machine Learning Engineering for Production (M...      DeepLearning.AI   \n",
       "3    Fundamentals of Machine Learning for Healthcare  Stanford University   \n",
       "4      IBM Machine Learning Professional Certificate                  IBM   \n",
       "5  Unsupervised Learning, Recommenders, Reinforce...  Stanford University   \n",
       "6     Introduction to Machine Learning in Production      DeepLearning.AI   \n",
       "7                 Applied Machine Learning in Python  Michigan University   \n",
       "8          Getting Started with AWS Machine Learning                  AWS   \n",
       "9  DeepLearning.AI TensorFlow Developer Professio...      DeepLearning.AI   \n",
       "\n",
       "          Level  Rating                                                URL  \\\n",
       "0  Intermediate     4.5  https://in.coursera.org/professional-certifica...   \n",
       "1      Beginner     4.9  https://in.coursera.org/specializations/machin...   \n",
       "2      Advanced     4.7  https://in.coursera.org/browse/data-science/ma...   \n",
       "3      Beginner     4.8  https://in.coursera.org/learn/fundamental-mach...   \n",
       "4  Intermediate     4.6  https://in.coursera.org/professional-certifica...   \n",
       "5      Beginner     4.9  https://in.coursera.org/learn/unsupervised-lea...   \n",
       "6      Advanced     4.8  https://in.coursera.org/learn/introduction-to-...   \n",
       "7  Intermediate     4.6  https://in.coursera.org/learn/python-machine-l...   \n",
       "8  Intermediate     4.5  https://in.coursera.org/learn/aws-machine-lear...   \n",
       "9  Intermediate     4.7  https://in.coursera.org/professional-certifica...   \n",
       "\n",
       "                                         Description  \\\n",
       "0  This Professional Certificate is intended for ...   \n",
       "1  The Machine Learning Specialization is a found...   \n",
       "2  Understanding machine learning and deep learni...   \n",
       "3  Machine learning and artificial intelligence h...   \n",
       "4  Machine Learning is one of the most in-demand ...   \n",
       "5  In the third course of the Machine Learning Sp...   \n",
       "6  In the first course of Machine Learning Engine...   \n",
       "7  This course will introduce the learner to appl...   \n",
       "8  Machine learning (ML) is one of the fastest gr...   \n",
       "9  TensorFlow is one of the most in-demand and po...   \n",
       "\n",
       "                                              Skills  \n",
       "0  Manage Azure resources for machine learning De...  \n",
       "1  Decision Trees Artificial Neural Network Logis...  \n",
       "2  Managing Machine Learning Production Systems D...  \n",
       "3  Machine learning Biostatistics Traditional com...  \n",
       "4  Artificial Intelligence (AI) Machine Learning ...  \n",
       "5  Collaborative Filtering Unsupervised Learning ...  \n",
       "6  Human-level Performance (HLP) Concept Drift Mo...  \n",
       "7  Python Programming Machine Learning (ML) Algor...  \n",
       "8  Artificial Intelligence (AI) Machine Learning ...  \n",
       "9  Computer Vision Convolutional Neural Network M...  "
      ]
     },
     "execution_count": 35,
     "metadata": {},
     "output_type": "execute_result"
    }
   ],
   "source": [
    "df2 = df[df['Rating'] > 4.0]\n",
    "df2.head(10)"
   ]
  },
  {
   "cell_type": "code",
   "execution_count": 36,
   "id": "98735202",
   "metadata": {},
   "outputs": [
    {
     "data": {
      "text/html": [
       "<div>\n",
       "<style scoped>\n",
       "    .dataframe tbody tr th:only-of-type {\n",
       "        vertical-align: middle;\n",
       "    }\n",
       "\n",
       "    .dataframe tbody tr th {\n",
       "        vertical-align: top;\n",
       "    }\n",
       "\n",
       "    .dataframe thead th {\n",
       "        text-align: right;\n",
       "    }\n",
       "</style>\n",
       "<table border=\"1\" class=\"dataframe\">\n",
       "  <thead>\n",
       "    <tr style=\"text-align: right;\">\n",
       "      <th>Title</th>\n",
       "      <th>A Crash Course in Data Science</th>\n",
       "      <th>AI For Everyone</th>\n",
       "      <th>AI Workflow: AI in Production</th>\n",
       "      <th>AI Workflow: Business Priorities and Data Ingestion</th>\n",
       "      <th>AI Workflow: Data Analysis and Hypothesis Testing</th>\n",
       "      <th>AI Workflow: Machine Learning, Visual Recognition and NLP</th>\n",
       "      <th>AI in Healthcare Specialization</th>\n",
       "      <th>Analyze Datasets and Train ML Models using AutoML</th>\n",
       "      <th>Applied Machine Learning in Python</th>\n",
       "      <th>Applied Plotting, Charting &amp; Data Representation in Python</th>\n",
       "      <th>...</th>\n",
       "      <th>Probabilistic Graphical Models 3: Learning</th>\n",
       "      <th>SAS Programmer Professional Certificate</th>\n",
       "      <th>SQL for Data Science</th>\n",
       "      <th>Satisfaction Guaranteed: Develop Customer Loyalty Online</th>\n",
       "      <th>Sports Performance Analytics Specialization</th>\n",
       "      <th>Teaching Impacts of Technology in K-12 Education Specialization</th>\n",
       "      <th>The AI Ladder: A Framework for Deploying AI in your Enterprise</th>\n",
       "      <th>Think Outside the Inbox: Email Marketing</th>\n",
       "      <th>Unsupervised Learning, Recommenders, Reinforcement Learning</th>\n",
       "      <th>Wearable Technologies and Sports Analytics</th>\n",
       "    </tr>\n",
       "  </thead>\n",
       "  <tbody>\n",
       "    <tr>\n",
       "      <th>Rating</th>\n",
       "      <td>4.5</td>\n",
       "      <td>4.8</td>\n",
       "      <td>4.5</td>\n",
       "      <td>4.3</td>\n",
       "      <td>4.2</td>\n",
       "      <td>4.4</td>\n",
       "      <td>4.7</td>\n",
       "      <td>4.6</td>\n",
       "      <td>4.6</td>\n",
       "      <td>4.5</td>\n",
       "      <td>...</td>\n",
       "      <td>4.6</td>\n",
       "      <td>4.8</td>\n",
       "      <td>4.6</td>\n",
       "      <td>4.8</td>\n",
       "      <td>4.5</td>\n",
       "      <td>4.8</td>\n",
       "      <td>4.7</td>\n",
       "      <td>4.7</td>\n",
       "      <td>4.9</td>\n",
       "      <td>4.8</td>\n",
       "    </tr>\n",
       "  </tbody>\n",
       "</table>\n",
       "<p>1 rows × 78 columns</p>\n",
       "</div>"
      ],
      "text/plain": [
       "Title   A Crash Course in Data Science  AI For Everyone  \\\n",
       "Rating                             4.5              4.8   \n",
       "\n",
       "Title   AI Workflow: AI in Production  \\\n",
       "Rating                            4.5   \n",
       "\n",
       "Title   AI Workflow: Business Priorities and Data Ingestion  \\\n",
       "Rating                                                4.3     \n",
       "\n",
       "Title   AI Workflow: Data Analysis and Hypothesis Testing  \\\n",
       "Rating                                                4.2   \n",
       "\n",
       "Title   AI Workflow: Machine Learning, Visual Recognition and NLP  \\\n",
       "Rating                                                4.4           \n",
       "\n",
       "Title   AI in Healthcare Specialization  \\\n",
       "Rating                              4.7   \n",
       "\n",
       "Title   Analyze Datasets and Train ML Models using AutoML  \\\n",
       "Rating                                                4.6   \n",
       "\n",
       "Title   Applied Machine Learning in Python  \\\n",
       "Rating                                 4.6   \n",
       "\n",
       "Title   Applied Plotting, Charting & Data Representation in Python  ...  \\\n",
       "Rating                                                4.5           ...   \n",
       "\n",
       "Title   Probabilistic Graphical Models 3: Learning  \\\n",
       "Rating                                         4.6   \n",
       "\n",
       "Title   SAS Programmer Professional Certificate  SQL for Data Science  \\\n",
       "Rating                                      4.8                   4.6   \n",
       "\n",
       "Title   Satisfaction Guaranteed: Develop Customer Loyalty Online  \\\n",
       "Rating                                                4.8          \n",
       "\n",
       "Title   Sports Performance Analytics Specialization  \\\n",
       "Rating                                          4.5   \n",
       "\n",
       "Title   Teaching Impacts of Technology in K-12 Education Specialization  \\\n",
       "Rating                                                4.8                 \n",
       "\n",
       "Title   The AI Ladder: A Framework for Deploying AI in your Enterprise  \\\n",
       "Rating                                                4.7                \n",
       "\n",
       "Title   Think Outside the Inbox: Email Marketing  \\\n",
       "Rating                                       4.7   \n",
       "\n",
       "Title   Unsupervised Learning, Recommenders, Reinforcement Learning  \\\n",
       "Rating                                                4.9             \n",
       "\n",
       "Title   Wearable Technologies and Sports Analytics  \n",
       "Rating                                         4.8  \n",
       "\n",
       "[1 rows x 78 columns]"
      ]
     },
     "execution_count": 36,
     "metadata": {},
     "output_type": "execute_result"
    }
   ],
   "source": [
    "cv=TfidfVectorizer()\n",
    "tfidf_matrix=cv.fit_transform(df['Title'])\n",
    "course_user = df.pivot_table(columns='Title',values='Rating')\n",
    "course_user.head()"
   ]
  },
  {
   "cell_type": "code",
   "execution_count": 37,
   "id": "5524999d",
   "metadata": {},
   "outputs": [],
   "source": [
    "df = df.rename(columns={'Title':'course_title'})"
   ]
  },
  {
   "cell_type": "code",
   "execution_count": 40,
   "id": "57d36c2f",
   "metadata": {},
   "outputs": [
    {
     "name": "stdout",
     "output_type": "stream",
     "text": [
      "--------------- Similar courses to your search --------------:\n",
      "\n"
     ]
    },
    {
     "data": {
      "text/plain": [
       "69                          Data Science Specialization\n",
       "44          Introduction to Data Science Specialization\n",
       "48     Data Science: Foundations using R Specialization\n",
       "1                       Machine Learning Specialization\n",
       "60     Learn SQL Basics for Data Science Specialization\n",
       "18    Practical Data Science on the AWS Cloud Specia...\n",
       "21                         Deep Learning Specialization\n",
       "29                      AI in Healthcare Specialization\n",
       "12      Mathematics for Machine Learning Specialization\n",
       "77                                 SQL for Data Science\n",
       "Name: course_title, dtype: object"
      ]
     },
     "execution_count": 40,
     "metadata": {},
     "output_type": "execute_result"
    }
   ],
   "source": [
    "cosine_sim = linear_kernel(tfidf_matrix, tfidf_matrix)\n",
    "indices=pd.Series(df.index,index=df['course_title'])\n",
    "titles=df['course_title']\n",
    "def recommendations(course_title):\n",
    "    idx = indices[course_title]\n",
    "    sim_scores = list(enumerate(cosine_sim[idx]))\n",
    "    sim_scores = sorted(sim_scores, key=lambda x: x[1], reverse=True)\n",
    "    sim_scores = sim_scores[1:11]\n",
    "    course_indices = [i[0] for i in sim_scores]\n",
    "    return titles.iloc[course_indices]\n",
    "print(\"--------------- Similar courses to your search --------------:\\n\")\n",
    "recommendations('A Crash Course in Data Science')"
   ]
  },
  {
   "cell_type": "code",
   "execution_count": 14,
   "id": "d2ab1368",
   "metadata": {},
   "outputs": [
    {
     "name": "stdout",
     "output_type": "stream",
     "text": [
      "computer vision \t\t machine learning \t\t Score: 0.5184\n",
      "man \t\t boy \t\t Score: 0.5843\n",
      "movie \t\t film \t\t Score: 0.8426\n",
      "friend \t\t love \t\t Score: 0.4168\n"
     ]
    }
   ],
   "source": [
    "from sentence_transformers import SentenceTransformer, util\n",
    "model = SentenceTransformer('all-MiniLM-L6-v2')\n",
    "    \n",
    "# Two lists of words\n",
    "word1 = ['computer vision',\n",
    "         'man',\n",
    "         'movie',\n",
    "         'friend']\n",
    "    \n",
    "word2 = ['machine learning',\n",
    "          'boy',\n",
    "          'film',\n",
    "          'love']\n",
    "    \n",
    "#Compute embedding for both lists\n",
    "embeddings1 = model.encode(word1, convert_to_tensor=True)\n",
    "embeddings2 = model.encode(word2, convert_to_tensor=True)\n",
    "  \n",
    "#Compute cosine-similarities\n",
    "cosine_scores = util.cos_sim(embeddings1, embeddings2)\n",
    "    \n",
    " #Output the pairs with their score\n",
    "for i in range(len(word1)):\n",
    "        print(\"{} \\t\\t {} \\t\\t Score: {:.4f}\".format(word1[i], word2[i], cosine_scores[i][i]))"
   ]
  },
  {
   "cell_type": "code",
   "execution_count": 15,
   "id": "48c000c4",
   "metadata": {},
   "outputs": [
    {
     "name": "stdout",
     "output_type": "stream",
     "text": [
      "Collecting word2number\n",
      "  Downloading word2number-1.1.zip (9.7 kB)\n",
      "Building wheels for collected packages: word2number\n",
      "  Building wheel for word2number (setup.py): started\n",
      "  Building wheel for word2number (setup.py): finished with status 'done'\n",
      "  Created wheel for word2number: filename=word2number-1.1-py3-none-any.whl size=5580 sha256=b47464ec90edbaa8dec4a43ef1501a09c8d0703fcbf9f465ce1cfeec3dac5a07\n",
      "  Stored in directory: c:\\users\\user\\appdata\\local\\pip\\cache\\wheels\\a0\\4a\\5b\\d2f2df5c344ddbecb8bea759872c207ea91d93f57fb54e816e\n",
      "Successfully built word2number\n",
      "Installing collected packages: word2number\n",
      "Successfully installed word2number-1.1\n"
     ]
    }
   ],
   "source": [
    "!pip install word2number"
   ]
  },
  {
   "cell_type": "code",
   "execution_count": 23,
   "id": "a95767ac",
   "metadata": {},
   "outputs": [
    {
     "name": "stdout",
     "output_type": "stream",
     "text": [
      "3\n"
     ]
    }
   ],
   "source": [
    "from word2number import w2n\n",
    "\n",
    "print(w2n.word_to_num(\"three\"))"
   ]
  },
  {
   "cell_type": "code",
   "execution_count": null,
   "id": "695a0aae",
   "metadata": {},
   "outputs": [],
   "source": []
  }
 ],
 "metadata": {
  "kernelspec": {
   "display_name": "Python 3 (ipykernel)",
   "language": "python",
   "name": "python3"
  },
  "language_info": {
   "codemirror_mode": {
    "name": "ipython",
    "version": 3
   },
   "file_extension": ".py",
   "mimetype": "text/x-python",
   "name": "python",
   "nbconvert_exporter": "python",
   "pygments_lexer": "ipython3",
   "version": "3.9.7"
  }
 },
 "nbformat": 4,
 "nbformat_minor": 5
}
